{
 "cells": [
  {
   "cell_type": "markdown",
   "metadata": {},
   "source": [
    "# Reducing traffic mortality in the US"
   ]
  },
  {
   "cell_type": "code",
   "execution_count": null,
   "metadata": {},
   "outputs": [],
   "source": [
    "# This is a code cell without any tag. You can put convenience code here,\n",
    "# but it won't be included in any way in the final project.\n",
    "# For example, to be able to run tests locally in the notebook\n",
    "# you need to install the following:\n",
    "# install.packages(\"devtools\")\n",
    "# install.packages(testthat\")\n",
    "# devtools::install_github('datacamp/IRkernel.testthat')\n",
    "\n",
    "# This allows .... to be used as placeholder value in the sample code cells\n",
    ".... <- NULL "
   ]
  },
  {
   "cell_type": "markdown",
   "metadata": {
    "tags": [
     "type:NotebookTask"
    ]
   },
   "source": [
    "## 1. Identifying the raw data ﬁles and determining their format"
   ]
  },
  {
   "cell_type": "markdown",
   "metadata": {
    "tags": [
     "@context"
    ]
   },
   "source": [
    "![](img/car_accident.jpg)\n",
    "\n",
    "While the rate of fatal road accidents rate have been decreasing steadily since the 80's, the past 10 years have seen a stagnation in this reduction. Coupled with the increase number of miles driven in the nation, the total number of traﬃc related fatalities has now reached a 10 year high and is rapidly increasing.\n",
    "\n",
    "![](img/accident-history.png)\n",
    "\n",
    "Per request of the US Department of Transportation we are currently investigating how to derive a strategy to reduce the incidence of road accidents across the nation. By looking at the demographics of traﬃc accident victims for each US state, we find that there is a lot of variation between states. Now we want to understand if there are patterns in this variation in order to derive suggestions for a policy action plan. In particular, instead of implementing a costly nation-wide plan we want to focus on groups of  states with similar profiles. How can we find such groups in a statistically sound way and communicate the result effectively?  \n",
    "\n",
    "To accomplish these tasks, we will make use of data wrangling, plotting, dimensionality reduction, and unsupervised clustering.\n",
    "\n",
    "The data given to us was originally collected by the National Highway Traﬃc Safety Administration and the National Association of Insurance Commissioners. This particular dataset was compiled and released as a [CSV-ﬁle](https://github.com/ﬁvethirtyeight/data/tree/master/bad-drivers) by FiveThirytEight under the [CC-BY4.0 license](https://github.com/ﬁvethirtyeight/data)."
   ]
  },
  {
   "cell_type": "markdown",
   "metadata": {
    "tags": [
     "@instructions"
    ]
   },
   "source": [
    "**One** sentence that summarizes the code the student will write in this task.\n",
    "\n",
    "- The specific task instructions go in a bullet point list. One sentence ideally (max 2) per bullet.\n",
    "- Try to map code cell comments to instruction bullets.\n",
    "- At most 4 bullets.\n",
    "\n",
    "<hr>\n",
    "\n",
    "## Good to know\n",
    "\n",
    "The `@instructions` for **task 1** should include a \"Good to know\" section where you direct the student to resources that could be useful _throughout_ the Project, as well as the recommended prerequisites. You should also link to resources that are helpful for task 1 specifically. These resources could be external documentation, DataCamp courses and exercises, cheat sheets, Stack Overflow answers, etc. Recommended format for task 1 below.\n",
    "\n",
    "This Project lets you practice the skills from [Introduction to the Tidyverse](https://www.datacamp.com/courses/introduction-to-the-tidyverse), including filtering, grouping and summarizing data, and visualizing with ggplot2. We recommend that you take that course before starting this Project.\n",
    "\n",
    "Helpful links:\n",
    "- tidyverse [cheat sheet](https://s3.amazonaws.com/assets.datacamp.com/blog_assets/Tidyverse+Cheat+Sheet.pdf)\n",
    "- dplyr's `mutate()` function [documentation](https://www.rdocumentation.org/packages/dplyr/versions/0.5.0/topics/mutate)\n",
    "- Mutate [exercises](https://campus.datacamp.com/courses/introduction-to-the-tidyverse/data-wrangling-1?ex=10) in the Introduction to the Tidyverse course"
   ]
  },
  {
   "cell_type": "markdown",
   "metadata": {
    "tags": [
     "@hint"
    ]
   },
   "source": [
    "Hints are meant for students who are stuck. Since students can't view solutions in Projects, clicking the hint button is their last resort. We often recommend including code scaffolding (example below).\n",
    "\n",
    "You can read `path_to/my_data.csv` into a data frame named `my_data` like this after loading the tidyverse package:\n",
    "\n",
    "```r\n",
    "my_data <- read_csv(\"path_to/my_data.csv\")\n",
    "```"
   ]
  },
  {
   "cell_type": "code",
   "execution_count": null,
   "metadata": {
    "tags": [
     "@sample_code"
    ]
   },
   "outputs": [],
   "source": [
    "# This is the sample code the student will see. It should\n",
    "# consist of up to 10 lines of code and comments, and the\n",
    "# student should have to complete at most 5 lines of code.\n",
    "\n",
    "# Rule of thumb: each bullet point in @instructions should\n",
    "# correspond to a comment in the @sample_code.\n",
    "\n",
    "# Indicate missing code with ....\n",
    "like_this <- ....\n",
    "# or when a line or more is required, like this:\n",
    "# .... YOUR CODE FOR TASK 1 ...."
   ]
  },
  {
   "cell_type": "code",
   "execution_count": null,
   "metadata": {
    "tags": [
     "@solution"
    ]
   },
   "outputs": [],
   "source": [
    "# Checking the name of the current directory to know that you we are the right place\n",
    "current_dir <- getwd() \n",
    "print(current_dir)\n",
    "\n",
    "# Listing all files in this directory to see the name of the main data file\n",
    "file_list <- list.files() \n",
    "print(file_list)\n",
    "\n",
    "# Listing the content of the \"data\" directory\n",
    "file_list <- list.files(\"datasets\")\n",
    "print(file_list)\n",
    "\n",
    "# Studying the first 20 lines of this file to understand how to read it in as a dataframe in the next cell\n",
    "accidents_head <- readLines('datasets/road-accidents.csv', n=20) \n",
    "print(accidents_head)"
   ]
  },
  {
   "cell_type": "code",
   "execution_count": null,
   "metadata": {
    "tags": [
     "@tests"
    ]
   },
   "outputs": [],
   "source": [
    "# These packages need to be loaded in the first @tests cell. \n",
    "library(testthat) \n",
    "library(IRkernel.testthat)\n",
    "\n",
    "# Then follows one or more tests of the student's code. \n",
    "# The @solution should pass the tests.\n",
    "# The purpose of the tests is to try to catch common errors and to \n",
    "# give the student a hint on how to resolve these errors.\n",
    "\n",
    "run_tests({\n",
    "    test_that(\"the answer is correct\", {\n",
    "    expect_true(like_this == \"missing part filled in\", \n",
    "        info = \"The student will see this info if the test fails.\")\n",
    "    })\n",
    "    # You can have more than one test\n",
    "})"
   ]
  },
  {
   "cell_type": "markdown",
   "metadata": {
    "tags": [
     "type:NotebookTask"
    ]
   },
   "source": [
    "## 2. Reading in and getting an overview of the data"
   ]
  },
  {
   "cell_type": "markdown",
   "metadata": {
    "tags": [
     "@context"
    ]
   },
   "source": [
    "After peeking at the beginning of the file we now know the dataformat and the next step is to import the data as a dataframe. After this, we will orient outselves to get to know the data that we are dealing with."
   ]
  },
  {
   "cell_type": "markdown",
   "metadata": {
    "tags": [
     "@instructions"
    ]
   },
   "source": [
    "**One** sentence that summarizes the code the student will write in this task.\n",
    "- The specific task instructions go in a bullet point list. One sentence ideally (max 2) per bullet.\n",
    "- Try to map code cell comments to instruction bullets.\n",
    "- At most 4 bullets.\n",
    "\n",
    "<hr>\n",
    "\n",
    "Provide more info (if necessary) and include links to external resources under the horizontal ruler. The instructions should at most have 600 characters. Example format for links below.\n",
    "\n",
    "Helpful links:\n",
    "- dplyr's mutate() function [documentation](https://www.rdocumentation.org/packages/dplyr/versions/0.5.0/topics/mutate)\n",
    "- Mutate [exercises](https://campus.datacamp.com/courses/introduction-to-the-tidyverse/data-wrangling-1?ex=10) in the Introduction to the Tidyverse course"
   ]
  },
  {
   "cell_type": "markdown",
   "metadata": {
    "tags": [
     "@hint"
    ]
   },
   "source": [
    "Hints are meant for students who are stuck. Since students can't view solutions in Projects, clicking the hint button is their last resort. We often recommend including code scaffolding (example below).\n",
    "\n",
    "You can read `path_to/my_data.csv` into a data frame named `my_data` like this after loading the tidyverse package:\n",
    "\n",
    "```r\n",
    "my_data <- read_csv(\"path_to/my_data.csv\")\n",
    "```"
   ]
  },
  {
   "cell_type": "code",
   "execution_count": null,
   "metadata": {
    "tags": [
     "@sample_code"
    ]
   },
   "outputs": [],
   "source": [
    "# This is the sample code the student will see. It should\n",
    "# consist of up to 10 lines of code and comments, and the\n",
    "# student should have to complete at most 5 lines of code.\n",
    "\n",
    "# Rule of thumb: each bullet point in @instructions should\n",
    "# correspond to a comment in the @sample_code.\n",
    "\n",
    "# Indicate missing code with ....\n",
    "like_this <- ....\n",
    "# or when a line or more is required, like this:\n",
    "# .... YOUR CODE FOR TASK 2 ...."
   ]
  },
  {
   "cell_type": "code",
   "execution_count": null,
   "metadata": {
    "tags": [
     "@solution"
    ]
   },
   "outputs": [],
   "source": [
    "# Importing the road accident data as a dataframe using tidyverse\n",
    "library(tidyverse)\n",
    "car_acc <- read_delim(file = 'datasets/road-accidents.csv', comment = '#', delim = '|')\n",
    "\n",
    "# Saving the number of rows columns as a vector\n",
    "rows_and_cols <- dim(car_acc)\n",
    "\n",
    "# Saving an overview of the data frame\n",
    "# This overview should include the number of rows and columns, the column data names and data types\n",
    "car_acc_structure <- str(car_acc)\n",
    "print(car_acc_structure)\n",
    "\n",
    "# Displaying the last six rows of the data frame. \n",
    "# Comparing the column data types from previously with this output.\n",
    "# Does it make sense? A quick data type sanity check like this can save us major headaches down the line.\n",
    "tail(car_acc)"
   ]
  },
  {
   "cell_type": "code",
   "execution_count": null,
   "metadata": {
    "tags": [
     "@tests"
    ]
   },
   "outputs": [],
   "source": [
    "# One or more tests of the student's code. \n",
    "# The @solution should pass the tests.\n",
    "# The purpose of the tests is to try to catch common errors and to \n",
    "# give the student a hint on how to resolve these errors.\n",
    "run_tests({\n",
    "    test_that(\"the answer is correct\", {\n",
    "    expect_true(like_this == \"missing part filled in\", \n",
    "        info = \"The student will see this info if the test fails.\")\n",
    "    })\n",
    "    # You can have more than one test\n",
    "})"
   ]
  },
  {
   "cell_type": "markdown",
   "metadata": {
    "tags": [
     "type:NotebookTask"
    ]
   },
   "source": [
    "## 3. Creating a textual and a graphical summary of the data"
   ]
  },
  {
   "cell_type": "markdown",
   "metadata": {
    "tags": [
     "@context"
    ]
   },
   "source": [
    "We now have an idea of what the dataset looks like. To further familiarize ourselves with this data, we will calculate summary statistics and produce a graphical overview of the data. The graphical overview is good to get a sense for the distribution of variables within the data, and could consist of one histogram per column. It is often a good idea to also explore the pairwise relationsship between all columns in the data set by using a using pairwise scatterplots (sometimes referred to as a \"scatterplot matrix\")."
   ]
  },
  {
   "cell_type": "markdown",
   "metadata": {
    "tags": [
     "@instructions"
    ]
   },
   "source": [
    "**One** sentence that summarizes the code the student will write in this task.\n",
    "- The specific task instructions go in a bullet point list. One sentence ideally (max 2) per bullet.\n",
    "- Try to map code cell comments to instruction bullets.\n",
    "- At most 4 bullets.\n",
    "\n",
    "<hr>\n",
    "\n",
    "Provide more info (if necessary) and include links to external resources under the horizontal ruler. The instructions should at most have 600 characters. Example format for links below.\n",
    "\n",
    "Helpful links:\n",
    "- dplyr's mutate() function [documentation](https://www.rdocumentation.org/packages/dplyr/versions/0.5.0/topics/mutate)\n",
    "- Mutate [exercises](https://campus.datacamp.com/courses/introduction-to-the-tidyverse/data-wrangling-1?ex=10) in the Introduction to the Tidyverse course"
   ]
  },
  {
   "cell_type": "markdown",
   "metadata": {
    "tags": [
     "@hint"
    ]
   },
   "source": [
    "Hints are meant for students who are stuck. Since students can't view solutions in Projects, clicking the hint button is their last resort. We often recommend including code scaffolding (example below).\n",
    "\n",
    "You can read `path_to/my_data.csv` into a data frame named `my_data` like this after loading the tidyverse package:\n",
    "\n",
    "```r\n",
    "my_data <- read_csv(\"path_to/my_data.csv\")\n",
    "```"
   ]
  },
  {
   "cell_type": "code",
   "execution_count": null,
   "metadata": {
    "tags": [
     "@sample_code"
    ]
   },
   "outputs": [],
   "source": [
    "# This is the sample code the student will see. It should\n",
    "# consist of up to 10 lines of code and comments, and the\n",
    "# student should have to complete at most 5 lines of code.\n",
    "\n",
    "# Rule of thumb: each bullet point in @instructions should\n",
    "# correspond to a comment in the @sample_code.\n",
    "\n",
    "# Indicate missing code with ....\n",
    "like_this <- ....\n",
    "# or when a line or more is required, like this:\n",
    "# .... YOUR CODE FOR TASK 3 ...."
   ]
  },
  {
   "cell_type": "code",
   "execution_count": null,
   "metadata": {
    "tags": [
     "@solution"
    ]
   },
   "outputs": [],
   "source": [
    "# Producing summary statistics of all columns in the data frame\n",
    "summary(car_acc)\n",
    "\n",
    "# Creating a pairwise scatterplot to explore the data\n",
    "car_acc %>% \n",
    "    select(-state) %>%\n",
    "    plot()"
   ]
  },
  {
   "cell_type": "code",
   "execution_count": null,
   "metadata": {
    "tags": [
     "@tests"
    ]
   },
   "outputs": [],
   "source": [
    "# One or more tests of the student's code. \n",
    "# The @solution should pass the tests.\n",
    "# The purpose of the tests is to try to catch common errors and to \n",
    "# give the student a hint on how to resolve these errors.\n",
    "run_tests({\n",
    "    test_that(\"the answer is correct\", {\n",
    "    expect_true(like_this == \"missing part filled in\", \n",
    "        info = \"The student will see this info if the test fails.\")\n",
    "    })\n",
    "    # You can have more than one test\n",
    "})"
   ]
  },
  {
   "cell_type": "markdown",
   "metadata": {
    "tags": [
     "type:NotebookTask"
    ]
   },
   "source": [
    "## 4. Quantifying association of features and fatal accidents"
   ]
  },
  {
   "cell_type": "markdown",
   "metadata": {
    "tags": [
     "@context"
    ]
   },
   "source": [
    "We can already see some potentially interesting relationships between the target variable (the number of fatal accidents) and the feature variables (the remaining three columns).\n",
    "\n",
    "To quantify the pairwise relationships that we observed in the scatterplots, we can compute the Pearson correlation coefficient matrix. The Pearson correlation coeffcient is one of the most common methods to quantify correlation between variables and by convention the following thresholds are usually used:\n",
    "\n",
    "- 0.2 = weak\n",
    "- 0.5 = medium\n",
    "- 0.8 = strong\n",
    "- 0.9 = very strong"
   ]
  },
  {
   "cell_type": "markdown",
   "metadata": {
    "tags": [
     "@instructions"
    ]
   },
   "source": [
    "**One** sentence that summarizes the code the student will write in this task.\n",
    "- The specific task instructions go in a bullet point list. One sentence ideally (max 2) per bullet.\n",
    "- Try to map code cell comments to instruction bullets.\n",
    "- At most 4 bullets.\n",
    "\n",
    "<hr>\n",
    "\n",
    "Provide more info (if necessary) and include links to external resources under the horizontal ruler. The instructions should at most have 600 characters. Example format for links below.\n",
    "\n",
    "Helpful links:\n",
    "- dplyr's mutate() function [documentation](https://www.rdocumentation.org/packages/dplyr/versions/0.5.0/topics/mutate)\n",
    "- Mutate [exercises](https://campus.datacamp.com/courses/introduction-to-the-tidyverse/data-wrangling-1?ex=10) in the Introduction to the Tidyverse course"
   ]
  },
  {
   "cell_type": "markdown",
   "metadata": {
    "tags": [
     "@hint"
    ]
   },
   "source": [
    "Hints are meant for students who are stuck. Since students can't view solutions in Projects, clicking the hint button is their last resort. We often recommend including code scaffolding (example below).\n",
    "\n",
    "You can read `path_to/my_data.csv` into a data frame named `my_data` like this after loading the tidyverse package:\n",
    "\n",
    "```r\n",
    "my_data <- read_csv(\"path_to/my_data.csv\")\n",
    "```"
   ]
  },
  {
   "cell_type": "code",
   "execution_count": null,
   "metadata": {
    "tags": [
     "@sample_code"
    ]
   },
   "outputs": [],
   "source": [
    "# This is the sample code the student will see. It should\n",
    "# consist of up to 10 lines of code and comments, and the\n",
    "# student should have to complete at most 5 lines of code.\n",
    "\n",
    "# Rule of thumb: each bullet point in @instructions should\n",
    "# correspond to a comment in the @sample_code.\n",
    "\n",
    "# Indicate missing code with ....\n",
    "like_this <- ....\n",
    "# or when a line or more is required, like this:\n",
    "# .... YOUR CODE FOR TASK 4 ...."
   ]
  },
  {
   "cell_type": "code",
   "execution_count": null,
   "metadata": {
    "tags": [
     "@solution"
    ]
   },
   "outputs": [],
   "source": [
    "# Computing the correlation for all column pairs \n",
    "car_acc %>% select(-state) %>% cor()"
   ]
  },
  {
   "cell_type": "code",
   "execution_count": null,
   "metadata": {
    "tags": [
     "@tests"
    ]
   },
   "outputs": [],
   "source": [
    "# One or more tests of the student's code. \n",
    "# The @solution should pass the tests.\n",
    "# The purpose of the tests is to try to catch common errors and to \n",
    "# give the student a hint on how to resolve these errors.\n",
    "run_tests({\n",
    "    test_that(\"the answer is correct\", {\n",
    "    expect_true(like_this == \"missing part filled in\", \n",
    "        info = \"The student will see this info if the test fails.\")\n",
    "    })\n",
    "    # You can have more than one test\n",
    "})"
   ]
  },
  {
   "cell_type": "markdown",
   "metadata": {
    "tags": [
     "type:NotebookTask"
    ]
   },
   "source": [
    "## 5. Fitting a multivariate linear regression"
   ]
  },
  {
   "cell_type": "markdown",
   "metadata": {
    "tags": [
     "@context"
    ]
   },
   "source": [
    "From the correlation table we see that the amount of fatal accidents is most strongly correlated with alcohol consumption (first row). But in addition, we also see that some of features are correlated with each other, for instance speeding and alcohol consumption are positively correlated. We therefore want to compute the association of the target with each feature while adjusting for the effect of the remaining features. This can be done using a multivariate linear regression.\n",
    "\n",
    "Both the multivariate regression and the correlation measure how strongly the features are associated with the outcome (fatal accidents). When comparing the regression coefficients with the correlation coefficients we will see that they are slightly different. The reason for this is that the multiple regression computes the association of a feature with an outcome, given the association with all other features, which is not accounted for when calculating the correlation coefficients.\n",
    "\n",
    "A particularly interesting case is when the correlation coefficient and the regression coefficient of the same feature have opposite signs. How can this be? For example, when a feature A is positively correlated with the outcome Y but also positively correlated with a different feature B that has a negative effect on Y, then the indirect correlation (A->B->Y) can overwhelm the direct correlation (A->Y). In such a case, the regression coefficient of feature A could be positive, while the correlation coefficient is negative. This is sometimes called a *masking* relationship. Let's see if the multivariate regression can reveal such a phenomenon.  "
   ]
  },
  {
   "cell_type": "markdown",
   "metadata": {
    "tags": [
     "@instructions"
    ]
   },
   "source": [
    "**One** sentence that summarizes the code the student will write in this task.\n",
    "- The specific task instructions go in a bullet point list. One sentence ideally (max 2) per bullet.\n",
    "- Try to map code cell comments to instruction bullets.\n",
    "- At most 4 bullets.\n",
    "\n",
    "<hr>\n",
    "\n",
    "Provide more info (if necessary) and include links to external resources under the horizontal ruler. The instructions should at most have 600 characters. Example format for links below.\n",
    "\n",
    "Helpful links:\n",
    "- dplyr's mutate() function [documentation](https://www.rdocumentation.org/packages/dplyr/versions/0.5.0/topics/mutate)\n",
    "- Mutate [exercises](https://campus.datacamp.com/courses/introduction-to-the-tidyverse/data-wrangling-1?ex=10) in the Introduction to the Tidyverse course"
   ]
  },
  {
   "cell_type": "markdown",
   "metadata": {
    "tags": [
     "@hint"
    ]
   },
   "source": [
    "Hints are meant for students who are stuck. Since students can't view solutions in Projects, clicking the hint button is their last resort. We often recommend including code scaffolding (example below).\n",
    "\n",
    "You can read `path_to/my_data.csv` into a data frame named `my_data` like this after loading the tidyverse package:\n",
    "\n",
    "```r\n",
    "my_data <- read_csv(\"path_to/my_data.csv\")\n",
    "```"
   ]
  },
  {
   "cell_type": "code",
   "execution_count": null,
   "metadata": {
    "tags": [
     "@sample_code"
    ]
   },
   "outputs": [],
   "source": [
    "# This is the sample code the student will see. It should\n",
    "# consist of up to 10 lines of code and comments, and the\n",
    "# student should have to complete at most 5 lines of code.\n",
    "\n",
    "# Rule of thumb: each bullet point in @instructions should\n",
    "# correspond to a comment in the @sample_code.\n",
    "\n",
    "# Indicate missing code with ....\n",
    "like_this <- ....\n",
    "# or when a line or more is required, like this:\n",
    "# .... YOUR CODE FOR TASK 5 ...."
   ]
  },
  {
   "cell_type": "code",
   "execution_count": null,
   "metadata": {
    "tags": [
     "@solution"
    ]
   },
   "outputs": [],
   "source": [
    "# Fitting a linear regression model \n",
    "fit_reg <- lm( drvr_fatl_col_bmiles ~ perc_fatl_speed + perc_fatl_alcohol + perc_fatl_1st_time , data=car_acc )\n",
    "# Printing the regression coefficients\n",
    "coef(fit_reg)"
   ]
  },
  {
   "cell_type": "code",
   "execution_count": null,
   "metadata": {
    "tags": [
     "@tests"
    ]
   },
   "outputs": [],
   "source": [
    "# One or more tests of the student's code.  \n",
    "# The @solution should pass the tests.\n",
    "# The purpose of the tests is to try to catch common errors and to \n",
    "# give the student a hint on how to resolve these errors.\n",
    "run_tests({\n",
    "    test_that(\"the answer is correct\", {\n",
    "    expect_true(like_this == \"missing part filled in\", \n",
    "        info = \"The student will see this info if the test fails.\")\n",
    "    })\n",
    "    # You can have more than one test\n",
    "})"
   ]
  },
  {
   "cell_type": "markdown",
   "metadata": {
    "tags": [
     "type:NotebookTask"
    ]
   },
   "source": [
    "## 6. Performing PCA on standardized data"
   ]
  },
  {
   "cell_type": "markdown",
   "metadata": {
    "tags": [
     "@context"
    ]
   },
   "source": [
    "We have learned that alcohol consumption is weakly associated with the amount of fatal accidents across states. This could lead you to already conclude that alcohol consumption should be a focus for futher investigations and maybe strategies should devide states into high versus low alcohol consumption in accidents. But there are also associations between  alcohol consumptions and the other two features, so it might be worth trying to split the states in a way that accounts for all three features.\n",
    "\n",
    "One way of clustering the data is to use PCA to visualize data in reduced dimensional space where we can try to pickup patterns by eye. PCA uses the absolute variance to calculate the overall variance explained for each principal component, so it is important that the features are on a similar scale (unless we would have a particular reason that one features should be weighted more).\n",
    "\n",
    "We will use the appropriate scaling function to standardize the features to be centered with mean 0 and scaled to a standard deviation of 1."
   ]
  },
  {
   "cell_type": "markdown",
   "metadata": {
    "tags": [
     "@instructions"
    ]
   },
   "source": [
    "**One** sentence that summarizes the code the student will write in this task.\n",
    "- The specific task instructions go in a bullet point list. One sentence ideally (max 2) per bullet.\n",
    "- Try to map code cell comments to instruction bullets.\n",
    "- At most 4 bullets.\n",
    "\n",
    "<hr>\n",
    "\n",
    "Provide more info (if necessary) and include links to external resources under the horizontal ruler. The instructions should at most have 600 characters. Example format for links below.\n",
    "\n",
    "Helpful links:\n",
    "- dplyr's mutate() function [documentation](https://www.rdocumentation.org/packages/dplyr/versions/0.5.0/topics/mutate)\n",
    "- Mutate [exercises](https://campus.datacamp.com/courses/introduction-to-the-tidyverse/data-wrangling-1?ex=10) in the Introduction to the Tidyverse course"
   ]
  },
  {
   "cell_type": "markdown",
   "metadata": {
    "tags": [
     "@hint"
    ]
   },
   "source": [
    "Hints are meant for students who are stuck. Since students can't view solutions in Projects, clicking the hint button is their last resort. We often recommend including code scaffolding (example below).\n",
    "\n",
    "You can read `path_to/my_data.csv` into a data frame named `my_data` like this after loading the tidyverse package:\n",
    "\n",
    "```r\n",
    "my_data <- read_csv(\"path_to/my_data.csv\")\n",
    "```"
   ]
  },
  {
   "cell_type": "code",
   "execution_count": null,
   "metadata": {
    "tags": [
     "@sample_code"
    ]
   },
   "outputs": [],
   "source": [
    "# This is the sample code the student will see. It should\n",
    "# consist of up to 10 lines of code and comments, and the\n",
    "# student should have to complete at most 5 lines of code.\n",
    "\n",
    "# Rule of thumb: each bullet point in @instructions should\n",
    "# correspond to a comment in the @sample_code.\n",
    "\n",
    "# Indicate missing code with ....\n",
    "like_this <- ....\n",
    "# or when a line or more is required, like this:\n",
    "# .... YOUR CODE FOR TASK 6 ...."
   ]
  },
  {
   "cell_type": "code",
   "execution_count": null,
   "metadata": {
    "tags": [
     "@solution"
    ]
   },
   "outputs": [],
   "source": [
    "# Centering and standadizing the feature columns\n",
    "car_acc_standised <- car_acc %>% \n",
    "                mutate( perc_fatl_speed=scale(perc_fatl_speed),\n",
    "                        perc_fatl_alcohol=scale(perc_fatl_alcohol),\n",
    "                        perc_fatl_1st_time=scale(perc_fatl_1st_time) )\n",
    "\n",
    "# Performing PCA on the standadized features\n",
    "pca_fit <- princomp( car_acc_standised[-c(1,2)]  )\n",
    "\n",
    "# Plotting the proportion of variance explained by each principle component (PC)\n",
    "pr_var <- pca_fit$sdev^2\n",
    "pve <- pr_var/sum(pr_var)\n",
    "plot( pve , xlab=\"Principal Component\",\n",
    "      ylab=\"Proportion of Variance Explained\", type=\"b\",ylim=c(0,1))\n",
    "\n",
    "# Computing the cumulative variance explained by the first two principle components\n",
    "cve <- cumsum(pve)\n",
    "cve_12 <- cve[2]\n",
    "print(cve_12)"
   ]
  },
  {
   "cell_type": "code",
   "execution_count": null,
   "metadata": {
    "tags": [
     "@tests"
    ]
   },
   "outputs": [],
   "source": [
    "# One or more tests of the student's code. \n",
    "# The @solution should pass the tests.\n",
    "# The purpose of the tests is to try to catch common errors and to \n",
    "# give the student a hint on how to resolve these errors.\n",
    "run_tests({\n",
    "    test_that(\"the answer is correct\", {\n",
    "    expect_true(like_this == \"missing part filled in\", \n",
    "        info = \"The student will see this info if the test fails.\")\n",
    "    })\n",
    "    # You can have more than one test\n",
    "})"
   ]
  },
  {
   "cell_type": "markdown",
   "metadata": {
    "tags": [
     "type:NotebookTask"
    ]
   },
   "source": [
    "## 7. Visualizing the data using the ﬁrst two principal components"
   ]
  },
  {
   "cell_type": "markdown",
   "metadata": {
    "tags": [
     "@context"
    ]
   },
   "source": [
    "The ﬁrst two principal components enable visualization of the data in two dimensions while capturing a high proportion of the variation (79%). This enables us to use our eyes to try to discern patterns in the data. Although clustering algorithms are becoming increasingly eﬃcient, human pattern recognition is an easy accessible and very eﬃcient method of assessing clusters in data.\n",
    "\n",
    "We will create a scatter plot of the ﬁrst 2 principle components, and determine how many clusters there are."
   ]
  },
  {
   "cell_type": "markdown",
   "metadata": {
    "tags": [
     "@instructions"
    ]
   },
   "source": [
    "**One** sentence that summarizes the code the student will write in this task.\n",
    "- The specific task instructions go in a bullet point list. One sentence ideally (max 2) per bullet.\n",
    "- Try to map code cell comments to instruction bullets.\n",
    "- At most 4 bullets.\n",
    "\n",
    "<hr>\n",
    "\n",
    "Provide more info (if necessary) and include links to external resources under the horizontal ruler. The instructions should at most have 600 characters. Example format for links below.\n",
    "\n",
    "Helpful links:\n",
    "- dplyr's mutate() function [documentation](https://www.rdocumentation.org/packages/dplyr/versions/0.5.0/topics/mutate)\n",
    "- Mutate [exercises](https://campus.datacamp.com/courses/introduction-to-the-tidyverse/data-wrangling-1?ex=10) in the Introduction to the Tidyverse course"
   ]
  },
  {
   "cell_type": "markdown",
   "metadata": {
    "tags": [
     "@hint"
    ]
   },
   "source": [
    "Hints are meant for students who are stuck. Since students can't view solutions in Projects, clicking the hint button is their last resort. We often recommend including code scaffolding (example below).\n",
    "\n",
    "You can read `path_to/my_data.csv` into a data frame named `my_data` like this after loading the tidyverse package:\n",
    "\n",
    "```r\n",
    "my_data <- read_csv(\"path_to/my_data.csv\")\n",
    "```"
   ]
  },
  {
   "cell_type": "code",
   "execution_count": null,
   "metadata": {
    "tags": [
     "@sample_code"
    ]
   },
   "outputs": [],
   "source": [
    "# This is the sample code the student will see. It should\n",
    "# consist of up to 10 lines of code and comments, and the\n",
    "# student should have to complete at most 5 lines of code.\n",
    "\n",
    "# Rule of thumb: each bullet point in @instructions should\n",
    "# correspond to a comment in the @sample_code.\n",
    "\n",
    "# Indicate missing code with ...\n",
    "like_this <- ....\n",
    "# or when a line or more is required, like this:\n",
    "# .... YOUR CODE FOR TASK 7 ...."
   ]
  },
  {
   "cell_type": "code",
   "execution_count": null,
   "metadata": {
    "tags": [
     "@solution"
    ]
   },
   "outputs": [],
   "source": [
    "# Plotling the first 2 principle components in a scatterplot\n",
    "plot(pca_fit$scores[,1],pca_fit$scores[,2],pch=16) "
   ]
  },
  {
   "cell_type": "code",
   "execution_count": null,
   "metadata": {
    "tags": [
     "@tests"
    ]
   },
   "outputs": [],
   "source": [
    "# One or more tests of the student's code.\n",
    "# The @solution should pass the tests.\n",
    "# The purpose of the tests is to try to catch common errors and to \n",
    "# give the student a hint on how to resolve these errors.\n",
    "run_tests({\n",
    "    test_that(\"the answer is correct\", {\n",
    "    expect_true(like_this == \"missing part filled in\", \n",
    "        info = \"The student will see this info if the test fails.\")\n",
    "    })\n",
    "    # You can have more than one test\n",
    "})"
   ]
  },
  {
   "cell_type": "markdown",
   "metadata": {
    "tags": [
     "type:NotebookTask"
    ]
   },
   "source": [
    "## 8. Finding clusters of similar states in the data"
   ]
  },
  {
   "cell_type": "markdown",
   "metadata": {
    "tags": [
     "@context"
    ]
   },
   "source": [
    "It was not entirely clear from the PCA scatter plot how many clusters there are in the data. We will therefore try to quantify the number of clusters using KMeans clustering. KMeans clustering can be used to assist with the identification of a number of clusters by creating a scree plot and finding the elbow, which is an indication of when the addition of more clusters does not contribute much additional explanatory power."
   ]
  },
  {
   "cell_type": "markdown",
   "metadata": {
    "tags": [
     "@instructions"
    ]
   },
   "source": [
    "**One** sentence that summarizes the code the student will write in this task.\n",
    "- The specific task instructions go in a bullet point list. One sentence ideally (max 2) per bullet.\n",
    "- Try to map code cell comments to instruction bullets.\n",
    "- At most 4 bullets.\n",
    "\n",
    "<hr>\n",
    "\n",
    "Provide more info (if necessary) and include links to external resources under the horizontal ruler. The instructions should at most have 600 characters. Example format for links below.\n",
    "\n",
    "Helpful links:\n",
    "- dplyr's mutate() function [documentation](https://www.rdocumentation.org/packages/dplyr/versions/0.5.0/topics/mutate)\n",
    "- Mutate [exercises](https://campus.datacamp.com/courses/introduction-to-the-tidyverse/data-wrangling-1?ex=10) in the Introduction to the Tidyverse course"
   ]
  },
  {
   "cell_type": "markdown",
   "metadata": {
    "tags": [
     "@hint"
    ]
   },
   "source": [
    "Hints are meant for students who are stuck. Since students can't view solutions in Projects, clicking the hint button is their last resort. We often recommend including code scaffolding (example below).\n",
    "\n",
    "You can read `path_to/my_data.csv` into a data frame named `my_data` like this after loading the tidyverse package:\n",
    "\n",
    "```r\n",
    "my_data <- read_csv(\"path_to/my_data.csv\")\n",
    "```"
   ]
  },
  {
   "cell_type": "code",
   "execution_count": null,
   "metadata": {
    "tags": [
     "@sample_code"
    ]
   },
   "outputs": [],
   "source": [
    "# This is the sample code the student will see. It should\n",
    "# consist of up to 10 lines of code and comments, and the\n",
    "# student should have to complete at most 5 lines of code.\n",
    "\n",
    "# Rule of thumb: each bullet point in @instructions should\n",
    "# correspond to a comment in the @sample_code.\n",
    "\n",
    "# Indicate missing code with ...\n",
    "like_this <- ....\n",
    "# or when a line or more is required, like this:\n",
    "# .... YOUR CODE FOR TASK 8 ...."
   ]
  },
  {
   "cell_type": "code",
   "execution_count": null,
   "metadata": {
    "tags": [
     "@solution"
    ]
   },
   "outputs": [],
   "source": [
    "# Creating a loop that applies the kmean method using k=1 to k=10 clusters\n",
    "# And for each cluster compute the explanatory power using the within cluster sum of squares\n",
    "k_vec <- 1:10\n",
    "inertias <- rep(NA, length(k_vec))\n",
    "mykm <- list()\n",
    "set.seed(1)\n",
    "for (k in k_vec) {\n",
    "                mykm[[k]] <- kmeans( car_acc_standised[-c(1,2)] , k , nstart=50  )\n",
    "                inertias[k] <- mykm[[k]]$tot.withinss             \n",
    "}\n",
    "plot( k_vec,inertias , type=\"b\")"
   ]
  },
  {
   "cell_type": "code",
   "execution_count": null,
   "metadata": {
    "tags": [
     "@tests"
    ]
   },
   "outputs": [],
   "source": [
    "# One or more tests of the student's code. \n",
    "# The @solution should pass the tests.\n",
    "# The purpose of the tests is to try to catch common errors and to \n",
    "# give the student a hint on how to resolve these errors.\n",
    "run_tests({\n",
    "    test_that(\"the answer is correct\", {\n",
    "    expect_true(like_this == \"missing part filled in\", \n",
    "        info = \"The student will see this info if the test fails.\")\n",
    "    })\n",
    "    # You can have more than one test\n",
    "})"
   ]
  },
  {
   "cell_type": "markdown",
   "metadata": {},
   "source": [
    "*The recommended number of tasks in a DataCamp Project is between 8 and 10, so feel free to add more if necessary. You can't have more than 12 tasks.*"
   ]
  },
  {
   "cell_type": "markdown",
   "metadata": {
    "tags": [
     "type:NotebookTask"
    ]
   },
   "source": [
    "## 9. Using KMeans to visualize clusters in the PCA visualization"
   ]
  },
  {
   "cell_type": "markdown",
   "metadata": {
    "tags": [
     "@context"
    ]
   },
   "source": [
    "There is no clear elbow in the scree plot, both 2 and 3 clusters seem like reasonable choices. We resume our analysis using 3 clusters. "
   ]
  },
  {
   "cell_type": "markdown",
   "metadata": {
    "tags": [
     "@instructions"
    ]
   },
   "source": [
    "**One** sentence that summarizes the code the student will write in this task.\n",
    "- The specific task instructions go in a bullet point list. One sentence ideally (max 2) per bullet.\n",
    "- Try to map code cell comments to instruction bullets.\n",
    "- At most 4 bullets.\n",
    "\n",
    "<hr>\n",
    "\n",
    "Provide more info (if necessary) and include links to external resources under the horizontal ruler. The instructions should at most have 600 characters. Example format for links below.\n",
    "\n",
    "Helpful links:\n",
    "- dplyr's mutate() function [documentation](https://www.rdocumentation.org/packages/dplyr/versions/0.5.0/topics/mutate)\n",
    "- Mutate [exercises](https://campus.datacamp.com/courses/introduction-to-the-tidyverse/data-wrangling-1?ex=10) in the Introduction to the Tidyverse course"
   ]
  },
  {
   "cell_type": "markdown",
   "metadata": {
    "tags": [
     "@hint"
    ]
   },
   "source": [
    "Hints are meant for students who are stuck. Since students can't view solutions in Projects, clicking the hint button is their last resort. We often recommend including code scaffolding (example below).\n",
    "\n",
    "You can read `path_to/my_data.csv` into a data frame named `my_data` like this after loading the tidyverse package:\n",
    "\n",
    "```r\n",
    "my_data <- read_csv(\"path_to/my_data.csv\")\n",
    "```"
   ]
  },
  {
   "cell_type": "code",
   "execution_count": null,
   "metadata": {
    "tags": [
     "@sample_code"
    ]
   },
   "outputs": [],
   "source": [
    "# This is the sample code the student will see. It should\n",
    "# consist of up to 10 lines of code and comments, and the\n",
    "# student should have to complete at most 5 lines of code.\n",
    "\n",
    "# Rule of thumb: each bullet point in @instructions should\n",
    "# correspond to a comment in the @sample_code.\n",
    "\n",
    "# Indicate missing code with ...\n",
    "like_this <- ....\n",
    "# or when a line or more is required, like this:\n",
    "# .... YOUR CODE FOR TASK 8 ...."
   ]
  },
  {
   "cell_type": "code",
   "execution_count": null,
   "metadata": {
    "tags": [
     "@solution"
    ]
   },
   "outputs": [],
   "source": [
    "# Colouring the points of the principle component plot according to cluster number\n",
    "cluster_id <- as.factor(mykm[[3]]$cluster)\n",
    "plot(pca_fit$scores[,1],pca_fit$scores[,2],col=cluster_id,pch=16) "
   ]
  },
  {
   "cell_type": "code",
   "execution_count": null,
   "metadata": {
    "tags": [
     "@tests"
    ]
   },
   "outputs": [],
   "source": [
    "# One or more tests of the student's code. \n",
    "# The @solution should pass the tests.\n",
    "# The purpose of the tests is to try to catch common errors and to \n",
    "# give the student a hint on how to resolve these errors.\n",
    "run_tests({\n",
    "    test_that(\"the answer is correct\", {\n",
    "    expect_true(like_this == \"missing part filled in\", \n",
    "        info = \"The student will see this info if the test fails.\")\n",
    "    })\n",
    "    # You can have more than one test\n",
    "})"
   ]
  },
  {
   "cell_type": "markdown",
   "metadata": {
    "tags": [
     "type:NotebookTask"
    ]
   },
   "source": [
    "## 10. Visualizing the feature differences between the clusters"
   ]
  },
  {
   "cell_type": "markdown",
   "metadata": {
    "tags": [
     "@context"
    ]
   },
   "source": [
    "Next we want to understand in what way the three clusters of states are different. It helps to use the the unscaled data here. This will be a comparison of 3 different clusters in terms of all three different features. A visualisation will help us to make this comparison.  "
   ]
  },
  {
   "cell_type": "markdown",
   "metadata": {
    "tags": [
     "@instructions"
    ]
   },
   "source": [
    "**One** sentence that summarizes the code the student will write in this task.\n",
    "- The specific task instructions go in a bullet point list. One sentence ideally (max 2) per bullet.\n",
    "- Try to map code cell comments to instruction bullets.\n",
    "- At most 4 bullets.\n",
    "\n",
    "<hr>\n",
    "\n",
    "Provide more info (if necessary) and include links to external resources under the horizontal ruler. The instructions should at most have 600 characters. Example format for links below.\n",
    "\n",
    "Helpful links:\n",
    "- dplyr's mutate() function [documentation](https://www.rdocumentation.org/packages/dplyr/versions/0.5.0/topics/mutate)\n",
    "- Mutate [exercises](https://campus.datacamp.com/courses/introduction-to-the-tidyverse/data-wrangling-1?ex=10) in the Introduction to the Tidyverse course"
   ]
  },
  {
   "cell_type": "markdown",
   "metadata": {
    "tags": [
     "@hint"
    ]
   },
   "source": [
    "Hints are meant for students who are stuck. Since students can't view solutions in Projects, clicking the hint button is their last resort. We often recommend including code scaffolding (example below).\n",
    "\n",
    "You can read `path_to/my_data.csv` into a data frame named `my_data` like this after loading the tidyverse package:\n",
    "\n",
    "```r\n",
    "my_data <- read_csv(\"path_to/my_data.csv\")\n",
    "```"
   ]
  },
  {
   "cell_type": "code",
   "execution_count": null,
   "metadata": {
    "tags": [
     "@sample_code"
    ]
   },
   "outputs": [],
   "source": [
    "# This is the sample code the student will see. It should\n",
    "# consist of up to 10 lines of code and comments, and the\n",
    "# student should have to complete at most 5 lines of code.\n",
    "\n",
    "# Rule of thumb: each bullet point in @instructions should\n",
    "# correspond to a comment in the @sample_code.\n",
    "\n",
    "# Indicate missing code with ...\n",
    "like_this <- ....\n",
    "# or when a line or more is required, like this:\n",
    "# .... YOUR CODE FOR TASK 8 ...."
   ]
  },
  {
   "cell_type": "code",
   "execution_count": null,
   "metadata": {
    "tags": [
     "@solution"
    ]
   },
   "outputs": [],
   "source": [
    "# Assigning the cluster labels to the data frame with the unscaled data. \n",
    "# To use the violing plot, we need to transform the data to the long format \n",
    "car_acc$cluster <- cluster_id\n",
    "car_acc %>%  select(-drvr_fatl_col_bmiles) %>% \n",
    "                gather(key=feature,value=percent,-state,-cluster) %>% \n",
    "                ggplot( aes(x=feature,y=percent , fill=cluster) ) +\n",
    "                geom_violin( ) +\n",
    "                coord_flip()"
   ]
  },
  {
   "cell_type": "code",
   "execution_count": null,
   "metadata": {
    "tags": [
     "@tests"
    ]
   },
   "outputs": [],
   "source": [
    "# One or more tests of the student's code. \n",
    "# The @solution should pass the tests.\n",
    "# The purpose of the tests is to try to catch common errors and to \n",
    "# give the student a hint on how to resolve these errors.\n",
    "run_tests({\n",
    "    test_that(\"the answer is correct\", {\n",
    "    expect_true(like_this == \"missing part filled in\", \n",
    "        info = \"The student will see this info if the test fails.\")\n",
    "    })\n",
    "    # You can have more than one test\n",
    "})"
   ]
  },
  {
   "cell_type": "markdown",
   "metadata": {
    "tags": [
     "type:NotebookTask"
    ]
   },
   "source": [
    "## 11. Find out which clusters have the highest incidence of fatal accidents"
   ]
  },
  {
   "cell_type": "markdown",
   "metadata": {
    "tags": [
     "@context"
    ]
   },
   "source": [
    "Now it is clear that different groups of states may require different interventions, but which cluster should we start helping? A reasonable approach is to try to help a cluster that will save as many people as possible and also has relatively few states.\n",
    "\n",
    "The data of how many miles are driven in each state is available in another tab-delimeted text file. We will assign these values to a column in the data frame and create a violin plot for how many deaths there are within each cluster."
   ]
  },
  {
   "cell_type": "markdown",
   "metadata": {
    "tags": [
     "@instructions"
    ]
   },
   "source": [
    "**One** sentence that summarizes the code the student will write in this task.\n",
    "- The specific task instructions go in a bullet point list. One sentence ideally (max 2) per bullet.\n",
    "- Try to map code cell comments to instruction bullets.\n",
    "- At most 4 bullets.\n",
    "\n",
    "<hr>\n",
    "\n",
    "Provide more info (if necessary) and include links to external resources under the horizontal ruler. The instructions should at most have 600 characters. Example format for links below.\n",
    "\n",
    "Helpful links:\n",
    "- dplyr's mutate() function [documentation](https://www.rdocumentation.org/packages/dplyr/versions/0.5.0/topics/mutate)\n",
    "- Mutate [exercises](https://campus.datacamp.com/courses/introduction-to-the-tidyverse/data-wrangling-1?ex=10) in the Introduction to the Tidyverse course"
   ]
  },
  {
   "cell_type": "markdown",
   "metadata": {
    "tags": [
     "@hint"
    ]
   },
   "source": [
    "Hints are meant for students who are stuck. Since students can't view solutions in Projects, clicking the hint button is their last resort. We often recommend including code scaffolding (example below).\n",
    "\n",
    "You can read `path_to/my_data.csv` into a data frame named `my_data` like this after loading the tidyverse package:\n",
    "\n",
    "```r\n",
    "my_data <- read_csv(\"path_to/my_data.csv\")\n",
    "```"
   ]
  },
  {
   "cell_type": "code",
   "execution_count": null,
   "metadata": {
    "tags": [
     "@sample_code"
    ]
   },
   "outputs": [],
   "source": [
    "# This is the sample code the student will see. It should\n",
    "# consist of up to 10 lines of code and comments, and the\n",
    "# student should have to complete at most 5 lines of code.\n",
    "\n",
    "# Rule of thumb: each bullet point in @instructions should\n",
    "# correspond to a comment in the @sample_code.\n",
    "\n",
    "# Indicate missing code with ...\n",
    "like_this <- ....\n",
    "# or when a line or more is required, like this:\n",
    "# .... YOUR CODE FOR TASK 8 ...."
   ]
  },
  {
   "cell_type": "code",
   "execution_count": null,
   "metadata": {
    "tags": [
     "@solution"
    ]
   },
   "outputs": [],
   "source": [
    "# Reading in the annual miles file and joining it with the car accident data frame\n",
    "# Computing the total number of accidents per state and summarizing for each cluster\n",
    "# Finally showing the summed number of accidents in each cluster\n",
    "miles_driven <- read_delim( file=\"datasets/miles-driven.csv\", delim = '|' )\n",
    "\n",
    "carr_acc_joined <- left_join(car_acc, miles_driven, by=\"state\") \n",
    "carr_acc_joined <- carr_acc_joined %>% mutate( num_drvr_fatl_col=drvr_fatl_col_bmiles*million_miles_annually/1000 )\n",
    "\n",
    "carr_acc_joined_summ <- carr_acc_joined %>% group_by(cluster) %>% select(cluster,num_drvr_fatl_col) %>% \n",
    "                summarise(count=n(),\n",
    "                          mean=mean(num_drvr_fatl_col),\n",
    "                          min=min(num_drvr_fatl_col),\n",
    "                          q25=quantile(num_drvr_fatl_col,0.25),\n",
    "                          q50=quantile(num_drvr_fatl_col,0.50),\n",
    "                          q75=quantile(num_drvr_fatl_col,0.75),\n",
    "                          max=max(num_drvr_fatl_col),\n",
    "                          sum=sum(num_drvr_fatl_col))\n",
    "print(carr_acc_joined_summ)\n",
    "\n",
    "carr_acc_joined_summ %>% ggplot( aes(x=cluster,y=sum) ) +\n",
    "                geom_bar( aes(fill=cluster), stat = \"identity\" , show.legend = F )"
   ]
  },
  {
   "cell_type": "code",
   "execution_count": null,
   "metadata": {
    "tags": [
     "@tests"
    ]
   },
   "outputs": [],
   "source": [
    "# One or more tests of the student's code. \n",
    "# The @solution should pass the tests.\n",
    "# The purpose of the tests is to try to catch common errors and to \n",
    "# give the student a hint on how to resolve these errors.\n",
    "run_tests({\n",
    "    test_that(\"the answer is correct\", {\n",
    "    expect_true(like_this == \"missing part filled in\", \n",
    "        info = \"The student will see this info if the test fails.\")\n",
    "    })\n",
    "    # You can have more than one test\n",
    "})"
   ]
  },
  {
   "cell_type": "markdown",
   "metadata": {
    "tags": [
     "type:NotebookTask"
    ]
   },
   "source": [
    "## 12. Making a decision when there is no clear correct choice"
   ]
  },
  {
   "cell_type": "markdown",
   "metadata": {
    "tags": [
     "@context"
    ]
   },
   "source": [
    "As we can see, there is no obvious correct choice regarding which cluster is the most important to focus on. Yet, we can still argue for a certain cluster and motivate this using our findings above. Which cluster should be a focus for policy intervention and further investigation? \n",
    "\n",
    "# We suggest that every answer would be correct here.\n",
    "# It's just away to get students to reflect on the advanatage of either case.\n",
    "# Is this approach ok for the last question considering there\n",
    "# are already many regular tasks in the notebook?\n",
    "\n",
    "cluster_num in range(3)\n",
    "# The info below would show up as the solution\n",
    "\n",
    "# There are several ways to justify each cluster choice.\n",
    "# - 1, Red = total number of people in accidents the largest.\n",
    "# - 2, Green = The highest alcohol consumption among fatal cases, which had the strongest association with accidents.\n",
    "# - 3, Blue = Cluster with the fewest number of states, good for a pilot effort."
   ]
  },
  {
   "cell_type": "markdown",
   "metadata": {
    "tags": [
     "@instructions"
    ]
   },
   "source": [
    "**One** sentence that summarizes the code the student will write in this task.\n",
    "- The specific task instructions go in a bullet point list. One sentence ideally (max 2) per bullet.\n",
    "- Try to map code cell comments to instruction bullets.\n",
    "- At most 4 bullets.\n",
    "\n",
    "<hr>\n",
    "\n",
    "Provide more info (if necessary) and include links to external resources under the horizontal ruler. The instructions should at most have 600 characters. Example format for links below.\n",
    "\n",
    "Helpful links:\n",
    "- dplyr's mutate() function [documentation](https://www.rdocumentation.org/packages/dplyr/versions/0.5.0/topics/mutate)\n",
    "- Mutate [exercises](https://campus.datacamp.com/courses/introduction-to-the-tidyverse/data-wrangling-1?ex=10) in the Introduction to the Tidyverse course"
   ]
  },
  {
   "cell_type": "markdown",
   "metadata": {
    "tags": [
     "@hint"
    ]
   },
   "source": [
    "Hints are meant for students who are stuck. Since students can't view solutions in Projects, clicking the hint button is their last resort. We often recommend including code scaffolding (example below).\n",
    "\n",
    "You can read `path_to/my_data.csv` into a data frame named `my_data` like this after loading the tidyverse package:\n",
    "\n",
    "```r\n",
    "my_data <- read_csv(\"path_to/my_data.csv\")\n",
    "```"
   ]
  },
  {
   "cell_type": "code",
   "execution_count": null,
   "metadata": {
    "tags": [
     "@sample_code"
    ]
   },
   "outputs": [],
   "source": [
    "# This is the sample code the student will see. It should\n",
    "# consist of up to 10 lines of code and comments, and the\n",
    "# student should have to complete at most 5 lines of code.\n",
    "\n",
    "# Rule of thumb: each bullet point in @instructions should\n",
    "# correspond to a comment in the @sample_code.\n",
    "\n",
    "# Indicate missing code with ...\n",
    "like_this <- ....\n",
    "# or when a line or more is required, like this:\n",
    "# .... YOUR CODE FOR TASK 8 ...."
   ]
  },
  {
   "cell_type": "code",
   "execution_count": null,
   "metadata": {
    "tags": [
     "@solution"
    ]
   },
   "outputs": [],
   "source": []
  },
  {
   "cell_type": "code",
   "execution_count": null,
   "metadata": {
    "tags": [
     "@tests"
    ]
   },
   "outputs": [],
   "source": [
    "# One or more tests of the student's code. \n",
    "# The @solution should pass the tests.\n",
    "# The purpose of the tests is to try to catch common errors and to \n",
    "# give the student a hint on how to resolve these errors.\n",
    "run_tests({\n",
    "    test_that(\"the answer is correct\", {\n",
    "    expect_true(like_this == \"missing part filled in\", \n",
    "        info = \"The student will see this info if the test fails.\")\n",
    "    })\n",
    "    # You can have more than one test\n",
    "})"
   ]
  }
 ],
 "metadata": {
  "celltoolbar": "Tags",
  "kernelspec": {
   "display_name": "R",
   "language": "R",
   "name": "ir"
  },
  "language_info": {
   "codemirror_mode": "r",
   "file_extension": ".r",
   "mimetype": "text/x-r-source",
   "name": "R",
   "pygments_lexer": "r",
   "version": "3.4.3"
  }
 },
 "nbformat": 4,
 "nbformat_minor": 2
}
