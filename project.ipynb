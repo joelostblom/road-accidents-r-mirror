{
 "cells": [
  {
   "cell_type": "markdown",
   "metadata": {},
   "source": [
    "# Reducing Traffic Mortality in the USA"
   ]
  },
  {
   "cell_type": "code",
   "execution_count": null,
   "metadata": {},
   "outputs": [],
   "source": [
    "# This is a code cell without any tag. You can put convenience code here,\n",
    "# but it won't be included in any way in the final project.\n",
    "# For example, to be able to run tests locally in the notebook\n",
    "# you need to install the following:\n",
    "# install.packages(\"devtools\")\n",
    "# install.packages(testthat\")\n",
    "# devtools::install_github('datacamp/IRkernel.testthat')\n",
    "\n",
    "# This allows .... to be used as placeholder value in the sample code cells\n",
    ".... <- NULL "
   ]
  },
  {
   "cell_type": "markdown",
   "metadata": {
    "tags": [
     "type:NotebookTask"
    ]
   },
   "source": [
    "## 1. The raw data files and their format"
   ]
  },
  {
   "cell_type": "markdown",
   "metadata": {
    "tags": [
     "@context"
    ]
   },
   "source": [
    "![](img/car_accident.jpg)\n",
    "\n",
    "While the rate of fatal road accidents has been decreasing steadily since the 80's, the past ten years have seen a stagnation in this reduction. Coupled with the increase in number of miles driven in the nation, the total number of traffic related-fatalities has now reached a ten year high and is rapidly increasing.\n",
    "\n",
    "Per request of the US Department of Transportation, we are currently investigating how to derive a strategy to reduce the incidence of road accidents across the nation. By looking at the demographics of traﬃc accident victims for each US state, we find that there is a lot of variation between states. Now we want to understand if there are patterns in this variation in order to derive suggestions for a policy action plan. In particular, instead of implementing a costly nation-wide plan we want to focus on groups of  states with similar profiles. How can we find such groups in a statistically sound way and communicate the result effectively?\n",
    "\n",
    "To accomplish these tasks, we will make use of data wrangling, plotting, dimensionality reduction, and unsupervised clustering.\n",
    "\n",
    "The data given to us was originally collected by the National Highway Traffic Safety Administration and the National Association of Insurance Commissioners. This particular dataset was compiled and released as a [CSV-file](https://github.com/fivethirtyeight/data/tree/master/bad-drivers) by FiveThirtyEight under the [CC-BY4.0 license](https://github.com/ﬁvethirtyeight/data)."
   ]
  },
  {
   "cell_type": "markdown",
   "metadata": {
    "tags": [
     "@instructions"
    ]
   },
   "source": [
    "Explore your current folder and have a look at the main dataset file.\n",
    "\n",
    "- Check the name of the current folder using `getwd()` .\n",
    "- List all files in the current folder using `list.files()`.\n",
    "- List all files in `datasets/` folder using `list.files()` by setting the `path` parameter to the folder.\n",
    "- View the first 20 lines of `road-accidents.csv` in the `datasets/` folder using `readLines()` and setting the `n` parameter.\n",
    "\n",
    "<hr>\n",
    "\n",
    "## Good to know\n",
    "\n",
    "This project lets you practice the skills from [Introduction to the Tidyverse](https://www.datacamp.com/courses/introduction-to-the-tidyverse), which  includes the pipe operator, summarizing data, and visualizing with ggplot2; from [Correlation and Regression](https://www.datacamp.com/courses/correlation-and-regression), which includes computing correlations and regression coefficients; and from [Unsupervised Learning in R](https://www.datacamp.com/courses/unsupervised-learning-in-r), which includes PCA and KMeans clustering. We recommend that you take these courses before starting this project.\n",
    "\n",
    "Here are [three charts](https://i.imgur.com/xXHvbdn.png) illustrating the road accident fatality situation described in the notebook's first paragraph.\n",
    "\n",
    "Helpful links:\n",
    "- For this task it is useful to know how to [work with files and folders in R](https://www.masterdataanalysis.com/r/working-with-files-and-folders-in-r/) \n",
    "- tidyverse [cheat sheet](https://s3.amazonaws.com/assets.datacamp.com/blog_assets/Tidyverse+Cheat+Sheet.pdf)\n",
    "- ggplot [cheat sheet](https://github.com/rstudio/cheatsheets/raw/master/data-visualization-2.1.pdf)\n"
   ]
  },
  {
   "cell_type": "markdown",
   "metadata": {
    "tags": [
     "@hint"
    ]
   },
   "source": [
    "Does your code look something like this for the second and fourth bullet in the instructions?\n",
    "\n",
    "```r\n",
    "file_list <- list.files()\n",
    "accidents_head <- readLines('PATH/TO_FILE', n=20) \n",
    "```"
   ]
  },
  {
   "cell_type": "code",
   "execution_count": null,
   "metadata": {
    "tags": [
     "@sample_code"
    ]
   },
   "outputs": [],
   "source": [
    "# Check the name of the current folder\n",
    "current_dir <- .... \n",
    "print(current_dir)\n",
    "\n",
    "# List all files in this folder\n",
    "file_list <- .... \n",
    "print(file_list)\n",
    "\n",
    "# List files inside the datasets folder\n",
    "file_list_ds <- .... \n",
    "print(file_list_ds)\n",
    "\n",
    "# View the first 20 lines of road-accidents.csv in the datasets folder\n",
    "accidents_head <- .... \n",
    "print(accidents_head)"
   ]
  },
  {
   "cell_type": "code",
   "execution_count": null,
   "metadata": {
    "tags": [
     "@solution"
    ]
   },
   "outputs": [],
   "source": [
    "# Check the name of the current folder\n",
    "current_dir <- getwd() \n",
    "print(current_dir)\n",
    "\n",
    "# List all files in this folder\n",
    "file_list <- list.files() \n",
    "print(file_list)\n",
    "\n",
    "# List files inside the datasets folder\n",
    "file_list_ds <- list.files(path = 'datasets') \n",
    "print(file_list_ds)\n",
    "\n",
    "# View the first 20 lines of road-accidents.csv in the datasets folder\n",
    "accidents_head <- readLines('datasets/road-accidents.csv', n=20) \n",
    "print(accidents_head)"
   ]
  },
  {
   "cell_type": "code",
   "execution_count": null,
   "metadata": {
    "tags": [
     "@tests"
    ]
   },
   "outputs": [],
   "source": [
    "# These packages need to be loaded in the first @tests cell. \n",
    "library(testthat) \n",
    "library(IRkernel.testthat)\n",
    "\n",
    "# Then follows one or more tests of the student's code. \n",
    "# The @solution should pass the tests.\n",
    "# The purpose of the tests is to try to catch common errors and to \n",
    "# give the student a hint on how to resolve these errors.\n",
    "\n",
    "run_tests({\n",
    "    test_that(\"the answer is correct\", {\n",
    "        expect_true(current_dir == getwd(), \n",
    "                    info = \"Did you correctly assign the current_dir variable?\")\n",
    "        expect_true( 'road-accidents.csv'%in%file_list_ds, \n",
    "                    info = \"Did you use the list.files function with the path argument to get the files inside the datasets folder?\")\n",
    "        expect_equal(file_list , list.files() , \n",
    "                     info = \"Did you correctly assign the current_dir variable?\")\n",
    "        expect_true(length(accidents_head) == 20, \n",
    "                    info = \"Make sure you read in the correct number of lines by using the n argument.\")\n",
    "    })\n",
    "})"
   ]
  },
  {
   "cell_type": "markdown",
   "metadata": {
    "tags": [
     "type:NotebookTask"
    ]
   },
   "source": [
    "## 2. Read in and get an overview of the data"
   ]
  },
  {
   "cell_type": "markdown",
   "metadata": {
    "tags": [
     "@context"
    ]
   },
   "source": [
    "Next, we will orient ourselves to get to know the data with which we are dealing."
   ]
  },
  {
   "cell_type": "markdown",
   "metadata": {
    "tags": [
     "@instructions"
    ]
   },
   "source": [
    "Import the main data file and start exploring the data.\n",
    "\n",
    "- Start by loading the `tidyverse` collection of packages.\n",
    "- Read in `road-accidents.csv`, which is in the `datasets/` folder, using `read_delim()`. \n",
    "- Save the number of rows columns with the `dim()` function.\n",
    "- Generate an overview of the data frame with the useful `str()` function. \n",
    "- Display the last six rows of the data frame using `tail()`. \n",
    "\n",
    "<hr>\n",
    "\n",
    "Read the documentation of `read_delim()` on how to use the `comment` and `delim` parameters.  \n",
    "Is the output of `tail()` what you would expect? A quick data sanity check like this can save us major headaches down the line.\n",
    "\n",
    "Helpful links:\n",
    "- [readr cheat sheet](https://github.com/rstudio/cheatsheets/raw/master/data-import.pdf)\n",
    "- `read_delim()` [documentation](https://readr.tidyverse.org/reference/read_delim.html)"
   ]
  },
  {
   "cell_type": "markdown",
   "metadata": {
    "tags": [
     "@hint"
    ]
   },
   "source": [
    "Does your code look something like this?\n",
    "\n",
    "```r\n",
    "library(tidyverse)\n",
    "car_acc <- read_delim(file = 'PATH_TO/FILE.csv', comment = '<COMMENT>', delim = '<DELIMITER>')\n",
    "rows_and_cols <- dim(....)\n",
    "car_acc_structure <- str(....)\n",
    "tail(....)\n",
    "```"
   ]
  },
  {
   "cell_type": "code",
   "execution_count": null,
   "metadata": {
    "tags": [
     "@sample_code"
    ]
   },
   "outputs": [],
   "source": [
    "# Load the tidyverse library\n",
    "# .... YOUR CODE FOR TASK 2 ....\n",
    "\n",
    "# Read in road-accidents.csv and set the comment argument\n",
    "car_acc <- ....\n",
    "\n",
    "# Save the number of rows columns\n",
    "rows_and_cols <- ....\n",
    "print(rows_and_cols)\n",
    "\n",
    "# Generate an overview of the data frame\n",
    "str(....)\n",
    "\n",
    "# Display the last six rows of the data frame. \n",
    "# .... YOUR CODE FOR TASK 2 ...."
   ]
  },
  {
   "cell_type": "code",
   "execution_count": null,
   "metadata": {
    "tags": [
     "@solution"
    ]
   },
   "outputs": [],
   "source": [
    "# Load the tidyverse library\n",
    "library(tidyverse)\n",
    "\n",
    "# Read in road-accidents.csv\n",
    "car_acc <- read_delim(file = 'datasets/road-accidents.csv', comment = '#', delim = '|')\n",
    "\n",
    "# Save the number of rows columns\n",
    "rows_and_cols <- dim(car_acc)\n",
    "print(rows_and_cols)\n",
    "\n",
    "# Generate an overview of the data frame\n",
    "str(car_acc)\n",
    "\n",
    "# Display the last six rows of the data frame. \n",
    "tail(car_acc)"
   ]
  },
  {
   "cell_type": "code",
   "execution_count": null,
   "metadata": {
    "tags": [
     "@tests"
    ]
   },
   "outputs": [],
   "source": [
    "\n",
    "# One or more tests of the student's code. \n",
    "# The @solution should pass the tests.\n",
    "# The purpose of the tests is to try to catch common errors and to \n",
    "# give the student a hint on how to resolve these errors.\n",
    "run_tests({\n",
    "    test_that(\"the answer is correct\", {\n",
    "    expect_is(car_acc, \"tbl_df\" , \n",
    "        info = \"Did you use the read_delim() function to read the file? Did you set comment='#'?\")\n",
    "    expect_equal(nrow(car_acc), 51 , \n",
    "        info = \"Did you tell R that in the file comments are indicated by # ?\")\n",
    "    expect_equal(ncol(car_acc), 5 , \n",
    "        info = \"Did you tell R that in the file a new column is indicated by | ?\")\n",
    "    expect_equal( length(rows_and_cols), 2 , \n",
    "        info = \"Did you use dim() to determine both the number of rows and columns?\")\n",
    "    })\n",
    "    # You can have more than one test\n",
    "})"
   ]
  },
  {
   "cell_type": "markdown",
   "metadata": {
    "tags": [
     "type:NotebookTask"
    ]
   },
   "source": [
    "## 3. Create a textual and a graphical summary of the data"
   ]
  },
  {
   "cell_type": "markdown",
   "metadata": {
    "tags": [
     "@context"
    ]
   },
   "source": [
    "We now have an idea of what the dataset looks like. To further familiarize ourselves with this data, we will calculate summary statistics and produce a graphical overview of the data. The graphical overview is good to get a sense for the distribution of variables within the data and could consist of one histogram per column. It is often a good idea to also explore the pairwise relationship between all columns in the data set by using a using pairwise scatter plots (sometimes referred to as a \"scatterplot matrix\")."
   ]
  },
  {
   "cell_type": "markdown",
   "metadata": {
    "tags": [
     "@instructions"
    ]
   },
   "source": [
    "Create a textual and graphical overview of data\n",
    "- Use `summary()` to create summary statistics of each data frame column.\n",
    "- Use the pipe operator `%>%` on the `car_acc` data frame to first deselect the `state` column and then use `ggpairs()` (from the `GGally` package) to create a pairwise scatterplot. \n",
    "\n",
    "<hr>\n",
    "\n",
    "Helpful links:\n",
    "- `summary()` [documentation](https://www.rdocumentation.org/packages/base/versions/3.5.1/topics/summary)\n",
    "- `ggpairs()` [documentation](https://www.rdocumentation.org/packages/GGally/versions/1.4.0/topics/ggpairs)"
   ]
  },
  {
   "cell_type": "markdown",
   "metadata": {
    "tags": [
     "@hint"
    ]
   },
   "source": [
    "Does your plotting code look like this?\n",
    "\n",
    "```r\n",
    "car_acc %>% \n",
    "    select(-<COLUMN TO DESELECT>) %>%\n",
    "    plot()\n",
    "```"
   ]
  },
  {
   "cell_type": "code",
   "execution_count": null,
   "metadata": {
    "tags": [
     "@sample_code"
    ]
   },
   "outputs": [],
   "source": [
    "# Compute summary statistics of all columns in the car_acc data frame\n",
    "dat_summ <- ....\n",
    "print(dat_summ)\n",
    "\n",
    "# Deselect the state column and create a pairwise scatterplot\n",
    "library(GGally)\n",
    "car_acc %>% \n",
    "    .... %>%\n",
    "    ggpairs()\n"
   ]
  },
  {
   "cell_type": "code",
   "execution_count": null,
   "metadata": {
    "tags": [
     "@solution"
    ]
   },
   "outputs": [],
   "source": [
    "# Compute summary statistics of all columns in the car_acc data frame\n",
    "dat_summ <- summary(car_acc)\n",
    "print(dat_summ)\n",
    "\n",
    "# Deselect the state column and create a pairwise scatterplot\n",
    "library(GGally)\n",
    "car_acc %>% \n",
    "    select(-state) %>%\n",
    "    ggpairs()"
   ]
  },
  {
   "cell_type": "code",
   "execution_count": null,
   "metadata": {
    "tags": [
     "@tests"
    ]
   },
   "outputs": [],
   "source": [
    "# One or more tests of the student's code. \n",
    "# The @solution should pass the tests.\n",
    "# The purpose of the tests is to try to catch common errors and to \n",
    "# give the student a hint on how to resolve these errors.\n",
    "\n",
    "\n",
    "run_tests({\n",
    "    test_that(\"the answer is correct\", {\n",
    "        expect_is(dat_summ, \"table\", info = \"Did you use `summary()` to obtain a summary of car_acc?\")\n",
    "        })\n",
    "    p <- last_plot()\n",
    "    test_that(\"the plot is correct\", {\n",
    "        expect_is(p, \"ggmatrix\", info = \"Did you create a figure using ggpairs()?\")    \n",
    "    })\n",
    "})"
   ]
  },
  {
   "cell_type": "markdown",
   "metadata": {
    "tags": [
     "type:NotebookTask"
    ]
   },
   "source": [
    "## 4. Quantify the association of features and accidents"
   ]
  },
  {
   "cell_type": "markdown",
   "metadata": {
    "tags": [
     "@context"
    ]
   },
   "source": [
    "We can already see some potentially interesting relationships between the target variable (the number of fatal accidents) and the feature variables (the remaining three columns).\n",
    "\n",
    "To quantify the pairwise relationships that we observed in the scatter plots, we can compute the Pearson correlation coefficient matrix. The Pearson correlation coefficient is one of the most common methods to quantify correlation between variables, and by convention, the following thresholds are usually used:\n",
    "\n",
    "- 0.2 = weak\n",
    "- 0.5 = medium\n",
    "- 0.8 = strong\n",
    "- 0.9 = very strong"
   ]
  },
  {
   "cell_type": "markdown",
   "metadata": {
    "tags": [
     "@instructions"
    ]
   },
   "source": [
    "Explore the correlation between all column-pairs in the data frame\n",
    "- Using the pipe operator, remove the state column and then compute the correlation coefficient for all column-pairs using `cor()`. By default, the Pearson correlation coefficient will be computed.\n",
    "- Print the correlation coefficient.\n",
    "\n",
    "<hr>\n",
    "\n",
    "- `cor()` [documentation](https://www.rdocumentation.org/packages/stats/versions/3.5.1/topics/cor)"
   ]
  },
  {
   "cell_type": "markdown",
   "metadata": {
    "tags": [
     "@hint"
    ]
   },
   "source": [
    "Does your code look something like this?\n",
    "\n",
    "```r\n",
    "corr_col <- car_acc %>%\n",
    "    select(-<COLUMN TO DESELECT>) %>%\n",
    "    cor()\n",
    "```"
   ]
  },
  {
   "cell_type": "code",
   "execution_count": null,
   "metadata": {
    "tags": [
     "@sample_code"
    ]
   },
   "outputs": [],
   "source": [
    "# Using pipes, remove the state column and then compute the correlation coefficient for all column pairs \n",
    "corr_col <- ....\n",
    "\n",
    "# Print the correlation coefficient for all column pairs\n",
    "print(corr_col)"
   ]
  },
  {
   "cell_type": "code",
   "execution_count": null,
   "metadata": {
    "tags": [
     "@solution"
    ]
   },
   "outputs": [],
   "source": [
    "# Use the pipe operator and first remove the state column and then compute the correlation coefficient for all column-pairs \n",
    "corr_col <- car_acc %>% select(-state) %>% cor()\n",
    "print(corr_col)"
   ]
  },
  {
   "cell_type": "code",
   "execution_count": null,
   "metadata": {
    "tags": [
     "@tests"
    ]
   },
   "outputs": [],
   "source": [
    "# One or more tests of the student's code. \n",
    "# The @solution should pass the tests.\n",
    "# The purpose of the tests is to try to catch common errors and to \n",
    "# give the student a hint on how to resolve these errors.\n",
    "run_tests({\n",
    "    test_that(\"the answer is correct\", {\n",
    "        expect_is(corr_col, \"matrix\" , \n",
    "                  info = \"Did you remove the 'state' column before computing the correlation?\")\n",
    "        expect_equal(prod(dim(corr_col)), 16 , \n",
    "                     info = \"Did you use the cor function on the data frame after removing the 'state' column?\")\n",
    "    })\n",
    "})"
   ]
  },
  {
   "cell_type": "markdown",
   "metadata": {
    "tags": [
     "type:NotebookTask"
    ]
   },
   "source": [
    "## 5. Fit a multivariate linear regression"
   ]
  },
  {
   "cell_type": "markdown",
   "metadata": {
    "tags": [
     "@context"
    ]
   },
   "source": [
    "From the correlation table, we see that the amount of fatal accidents is most strongly correlated with alcohol consumption (first row). But in addition, we also see that some of the features are correlated with each other, for instance, speeding and alcohol consumption are positively correlated. We, therefore, want to compute the association of the target with each feature while adjusting for the effect of the remaining features. This can be done using multivariate linear regression.\n",
    "\n",
    "Both the multivariate regression and the correlation measure how strongly the features are associated with the outcome (fatal accidents). When comparing the regression coefficients with the correlation coefficients, we will see that they are slightly different. The reason for this is that the multiple regression computes the association of a feature with an outcome, given the association with all other features, which is not accounted for when calculating the correlation coefficients.\n",
    "\n",
    "A particularly interesting case is when the correlation coefficient and the regression coefficient of the same feature have opposite signs. How can this be? For example, when a feature A is positively correlated with the outcome Y but also positively correlated with a different feature B that has a negative effect on Y, then the indirect correlation (A->B->Y) can overwhelm the direct correlation (A->Y). In such a case, the regression coefficient of feature A could be positive, while the correlation coefficient is negative. This is sometimes called a *masking* relationship. Let’s see if the multivariate regression can reveal such a phenomenon."
   ]
  },
  {
   "cell_type": "markdown",
   "metadata": {
    "tags": [
     "@instructions"
    ]
   },
   "source": [
    "Fit a multivariate linear regression model using the fatal accident rate as the outcome.\n",
    "\n",
    "- Use `lm()` to fit a multivariate linear regression model for `drvr_fatl_col_bmiles` as a function of `perc_fatl_speed`, `perc_fatl_alcohol`, and `perc_fatl_1st_time`.\n",
    "- The fit object contains various types of information. Use the `coef()` function to obtain the model coefficients.\n",
    "\n",
    "<hr>\n",
    "\n",
    "Helpful links:\n",
    "- `lm()` [documentation](https://www.rdocumentation.org/packages/stats/versions/3.5.1/topics/lm)\n",
    "- `scales()` [documentation](https://www.rdocumentation.org/packages/base/versions/3.5.1/topics/scale)"
   ]
  },
  {
   "cell_type": "markdown",
   "metadata": {
    "tags": [
     "@hint"
    ]
   },
   "source": [
    "Does your code look something like this?\n",
    "\n",
    "```r \n",
    "fit_reg <- lm(drvr_fatl_col_bmiles ~ <EXPLANATORY_VAR_1> + <EXPLANATORY_VAR_2> + <EXPLANATORY_VAR_3>, data=<DATA FRAME>)\n",
    "fit_coef <- coef(fit_reg)\n",
    "```"
   ]
  },
  {
   "cell_type": "code",
   "execution_count": null,
   "metadata": {
    "tags": [
     "@sample_code"
    ]
   },
   "outputs": [],
   "source": [
    "# Use lm to fit a multivariate linear regression model \n",
    "fit_reg <- ....\n",
    "\n",
    "# Retrieve the regression coefficients from the model fit\n",
    "fit_coef <- ....\n",
    "print(fit_coef)"
   ]
  },
  {
   "cell_type": "code",
   "execution_count": null,
   "metadata": {
    "tags": [
     "@solution"
    ]
   },
   "outputs": [],
   "source": [
    "# Use lm to fit a multivariate linear regression model \n",
    "fit_reg <- lm( drvr_fatl_col_bmiles ~ perc_fatl_speed + perc_fatl_alcohol + perc_fatl_1st_time , data=car_acc )\n",
    "# Retrieve the regression coefficients from the model fit\n",
    "fit_coef <- coef(fit_reg)\n",
    "print(fit_coef)"
   ]
  },
  {
   "cell_type": "code",
   "execution_count": null,
   "metadata": {
    "tags": [
     "@tests"
    ]
   },
   "outputs": [],
   "source": [
    "# One or more tests of the student's code.  \n",
    "# The @solution should pass the tests.\n",
    "# The purpose of the tests is to try to catch common errors and to \n",
    "# give the student a hint on how to resolve these errors.\n",
    "run_tests({\n",
    "    test_that(\"the answer is correct\", {\n",
    "        expect_is(fit_reg, \"lm\" , \n",
    "                  info = \"Did you use the lm function?\")\n",
    "        expect_true( near(fit_coef[1],9.06498048340333) , \n",
    "                    info = \"Did you give lm the correct linear model formula containing all three predictors?\")\n",
    "    })\n",
    "})"
   ]
  },
  {
   "cell_type": "markdown",
   "metadata": {
    "tags": [
     "type:NotebookTask"
    ]
   },
   "source": [
    "## 6. Perform PCA on standardized data"
   ]
  },
  {
   "cell_type": "markdown",
   "metadata": {
    "tags": [
     "@context"
    ]
   },
   "source": [
    "We have learned that alcohol consumption is weakly associated with the number of fatal accidents across states. This could lead us to conclude that alcohol consumption should be a focus for further investigations and maybe strategies should divide states into high versus low alcohol consumption in accidents. But there are also associations between  alcohol consumptions and the other two features, so it might be worth trying to split the states in a way that accounts for all three features.\n",
    "\n",
    "One way of clustering the data is to use PCA to visualize data in reduced dimensional space where we can try to pick up patterns by eye. PCA uses the absolute variance to calculate the overall variance explained for each principal component, so it is important that the features are on a similar scale (unless we would have a particular reason that one feature should be weighted more).\n",
    "\n",
    "We'll use the appropriate scaling function to standardize the features to be centered with mean 0 and scaled with standard deviation 1."
   ]
  },
  {
   "cell_type": "markdown",
   "metadata": {
    "tags": [
     "@instructions"
    ]
   },
   "source": [
    "Perform a Principle Component Analysis on the standardized data.\n",
    "- Center and standardise the three feature columns using `scale()`.\n",
    "- Perform PCA on standardized features (columns 3, 4, and 5 of `car_acc_standised`) using `princomp()`.\n",
    "- Add point and line geoms and x and y labels to the ggplot.\n",
    "- Compute the cumulative proportion of variance explained by applying `cumsum()` to the `pve` vector, and extract and print the variance explained by the first two principal components.\n",
    "\n",
    "<hr>\n",
    "\n",
    "Helpful links:\n",
    "- `princomp()` [documentation](https://www.rdocumentation.org/packages/stats/versions/3.5.1/topics/princomp)\n",
    "- PCA [lecture video](https://campus.datacamp.com/courses/unsupervised-learning-in-r/dimensionality-reduction-with-pca?ex=5) of Unsupervised Learning in R"
   ]
  },
  {
   "cell_type": "markdown",
   "metadata": {
    "tags": [
     "@hint"
    ]
   },
   "source": [
    "The `perc_fatl_speed` column can be scaled like this:\n",
    "```r\n",
    "perc_fatl_speed=scale(perc_fatl_speed)\n",
    "```\n",
    "\n",
    "Does the rest of your code look like this?\n",
    "\n",
    "```r\n",
    "pca_fit <- princomp(....[, c(....,....,....)])\n",
    "pr_var <- pca_fit$sdev^2\n",
    "pve <- pr_var / sum(pr_var)\n",
    "cve <- cumsum(pve)\n",
    "cve_pc2 <- cve[2]\n",
    "```"
   ]
  },
  {
   "cell_type": "code",
   "execution_count": null,
   "metadata": {
    "tags": [
     "@sample_code"
    ]
   },
   "outputs": [],
   "source": [
    "# Center and standardise the three feature columns\n",
    "car_acc_standised <- car_acc %>% \n",
    "    mutate(perc_fatl_speed=....,\n",
    "           perc_fatl_alcohol=....,\n",
    "           perc_fatl_1st_time=.... )\n",
    "\n",
    "# Perform PCA on standardized features\n",
    "pca_fit <- ....\n",
    "\n",
    "# Obtain the proportion of variance explained by each principle component\n",
    "pr_var <- pca_fit$sdev^2\n",
    "pve <- pr_var / sum(pr_var)\n",
    "\n",
    "# Plot the proportion of variance explained, draw a point plot connected with lines\n",
    "data_frame( comp_id=1:length(pve) , pve ) %>%\n",
    "ggplot( aes(x=comp_id , y=pve) ) + .... + .... +\n",
    "coord_cartesian(ylim=c(0,1)) +\n",
    "labs(x=...., \n",
    "    y=....)\n",
    "\n",
    "# Compute the cumulative proportion of variance and extract the variance explained by the first two principal components\n",
    "cve <- ....\n",
    "cve_pc2 <- ....\n",
    "print(cve_pc2)"
   ]
  },
  {
   "cell_type": "code",
   "execution_count": null,
   "metadata": {
    "tags": [
     "@solution"
    ]
   },
   "outputs": [],
   "source": [
    "# Center and standade the three feature columns\n",
    "car_acc_standised <- car_acc %>% \n",
    "                mutate( perc_fatl_speed=scale(perc_fatl_speed),\n",
    "                        perc_fatl_alcohol=scale(perc_fatl_alcohol),\n",
    "                        perc_fatl_1st_time=scale(perc_fatl_1st_time) )\n",
    "\n",
    "# Perform PCA on standadized features (column 3,4,5 of car_acc_standised)\n",
    "pca_fit <- princomp( car_acc_standised[,c(3,4,5)]  )\n",
    "\n",
    "# Obtain the proportion of variance explained by each principle component\n",
    "pr_var <- pca_fit$sdev^2\n",
    "pve <- pr_var/sum(pr_var)\n",
    "\n",
    "# Plot the proportion of variance explained\n",
    "data_frame( comp_id=1:length(pve) , pve ) %>%\n",
    "ggplot( aes(x=comp_id , y=pve) ) + geom_line() + geom_point() +\n",
    "coord_cartesian(ylim=c(0,1)) +\n",
    "labs(x=\"Principal Component\", \n",
    "    y=\"Proportion of Variance Explained\")\n",
    "\n",
    "# Get the cumulative variance explained by the first 2 principle components\n",
    "cve <- cumsum(pve)\n",
    "cve_pc2 <- cve[2]\n",
    "print(cve_pc2)"
   ]
  },
  {
   "cell_type": "code",
   "execution_count": null,
   "metadata": {
    "tags": [
     "@tests"
    ]
   },
   "outputs": [],
   "source": [
    "# One or more tests of the student's code. \n",
    "# The @solution should pass the tests.\n",
    "# The purpose of the tests is to try to catch common errors and to \n",
    "# give the student a hint on how to resolve these errors.\n",
    "p <- last_plot()\n",
    "\n",
    "run_tests({\n",
    "    test_that(\"the computations are correct\", {\n",
    "        expect_true( near( mean(car_acc_standised$perc_fatl_speed)+\n",
    "                      mean(car_acc_standised$perc_fatl_alcohol)+\n",
    "                      mean(car_acc_standised$perc_fatl_1st_time),0) , \n",
    "                    info = \"Did you use the scale function to create car_acc_standised?\")\n",
    "        expect_true( near(pr_var[1] , 1.34332588935974 ) , \n",
    "                info = \"Did you compute the proportion of explained variance by taking the square of pca_fit$sdev?\")\n",
    "        expect_true( near(cve[2] ,  0.794697860810483 ) ,\n",
    "                info = \"Did you correctly compute the cumulative variance explained from pve by using the cumsum function?\")\n",
    "        })\n",
    "    test_that(\"the plot is correct\", {\n",
    "        p <- last_plot()\n",
    "        correct_geoms <- c(class(p$layers[[1]]$geom)[1], class(p$layers[[2]]$geom)[1])\n",
    "\n",
    "        expect_true(class(p$layers[[1]]$geom)[1] %in% correct_geoms, \n",
    "                    info = \"The plot is incorrect. Did you use a line and a point geom?\")\n",
    "        expect_true(class(p$layers[[2]]$geom)[1] %in% correct_geoms, \n",
    "                    info = \"The plot is incorrect. Did you use a line and a point geom?\")\n",
    "    })\n",
    "})"
   ]
  },
  {
   "cell_type": "markdown",
   "metadata": {
    "tags": [
     "type:NotebookTask"
    ]
   },
   "source": [
    "## 7. Visualize the first two principal components"
   ]
  },
  {
   "cell_type": "markdown",
   "metadata": {
    "tags": [
     "@context"
    ]
   },
   "source": [
    "The first two principal components enable visualization of the data in two dimensions while capturing a high proportion of the variation (79%) from all three features: speeding, alcohol influence, and first-time accidents. This enables us to use our eyes to try to discern patterns in the data with the goal to find groups of similar states. Although clustering algorithms are becoming increasingly efficient, human pattern recognition is an easily accessible and very efficient method of assessing patterns in data.\n",
    "\n",
    "We will create a scatter plot of the first principle components and explore how the states cluster together in this visualization."
   ]
  },
  {
   "cell_type": "markdown",
   "metadata": {
    "tags": [
     "@instructions"
    ]
   },
   "source": [
    "Plot the individual states using the first 2 principle components\n",
    "- Extract the principle component scores from `pca_fit`.\n",
    "- Create a data frame of the extracted scores and plot the first two principle components using a point geom from `ggplot()`. Order of the principle component scores does not matter. \n",
    "\n",
    "<hr>"
   ]
  },
  {
   "cell_type": "markdown",
   "metadata": {
    "tags": [
     "@hint"
    ]
   },
   "source": [
    "The code to calculate `pcomp1` looks like this:\n",
    "\n",
    "```r\n",
    "pcomp1 <- pca_fit$scores[,1]\n",
    "```\n",
    "\n",
    "Does your plotting code look like this?\n",
    "```r\n",
    "plot(...., ...., pch=....,\n",
    "     xlab=\"Principle Component 1\",\n",
    "     ylab=\"Principle Component 2\") \n",
    "```"
   ]
  },
  {
   "cell_type": "code",
   "execution_count": null,
   "metadata": {
    "tags": [
     "@sample_code"
    ]
   },
   "outputs": [],
   "source": [
    "# Get the principle component scores from the PCA fit\n",
    "pcomp1 <- ....\n",
    "pcomp2 <- ....\n",
    "\n",
    "# Plot the first 2 principle components in a scatterplot using ggplot\n",
    "data_frame(pcomp1,pcomp2) %>%\n",
    "...."
   ]
  },
  {
   "cell_type": "code",
   "execution_count": null,
   "metadata": {
    "tags": [
     "@solution"
    ]
   },
   "outputs": [],
   "source": [
    "# Get the principle component scores from the PCA fit\n",
    "pcomp1 <- pca_fit$scores[,1]\n",
    "pcomp2 <- pca_fit$scores[,2]\n",
    "\n",
    "# Plot the first 2 principle components in a scatterplot and add axis labels\n",
    "data_frame(pcomp1,pcomp2) %>%\n",
    "ggplot(aes(x=pcomp1,y=pcomp2)) +geom_point() +\n",
    "labs(x=\"Principle Component 1\",\n",
    "    y=\"Principle Component 2\")"
   ]
  },
  {
   "cell_type": "code",
   "execution_count": null,
   "metadata": {
    "tags": [
     "@tests"
    ]
   },
   "outputs": [],
   "source": [
    "# One or more tests of the student's code.\n",
    "# The @solution should pass the tests.\n",
    "# The purpose of the tests is to try to catch common errors and to \n",
    "# give the student a hint on how to resolve these errors.\n",
    "p <- last_plot()\n",
    "\n",
    "run_tests({\n",
    "    test_that(\"the answer is correct\", {\n",
    "    expect_true( near(sum(pcomp1+pcomp2),-2.74780198594726e-15) , \n",
    "        info = \"Did you extract the principle compenent scores from the PCA fit using pca_fit$scores[,1] and pca_fit$scores[,2]?\") \n",
    "      })\n",
    "    test_that(\"the plot is correct\", {\n",
    "        expect_is(p, \"ggplot\", info = \"Did you create a ggplot figure?\")\n",
    "        expect_is(p$layers[[1]]$geom, \"GeomPoint\", info = \"Did you create a plot with geom_point()?\")\n",
    "    })\n",
    "})"
   ]
  },
  {
   "cell_type": "markdown",
   "metadata": {
    "tags": [
     "type:NotebookTask"
    ]
   },
   "source": [
    "## 8. Find clusters of similar states in the data"
   ]
  },
  {
   "cell_type": "markdown",
   "metadata": {
    "tags": [
     "@context"
    ]
   },
   "source": [
    "It was not entirely clear from the PCA scatter plot how many groups in which the states cluster. To assist with identifying a reasonable number of clusters, we can use KMeans clustering by creating a scree plot and finding the \"elbow\", which is an indication of when the addition of more clusters does not add much explanatory power."
   ]
  },
  {
   "cell_type": "markdown",
   "metadata": {
    "tags": [
     "@instructions"
    ]
   },
   "source": [
    "Apply the K-mean method using a range of clusters and plot the within-cluster sum-of-squares.\n",
    "\n",
    "- Create a vector, `k_vec`, of one to ten. These will be the clusters.\n",
    "- Initialise a vector of inertias of the same length as `k_vec` filled with NAs by using `rep()`.\n",
    "- For each k, fit a K-mean model using `kmeans()` with centers set to 'k' and save them in the `mykm` list. Then obtain the within-cluster sum-of-squares from the K-means fit object using `tot.withinss` and save them to `inertias`.\n",
    "- Finally, plot the within-cluster sum-of-squares against the different numbers of clusters with point and line geoms. \n",
    " \n",
    "<hr>\n",
    "\n",
    "Helpful links:  \n",
    "- kmeans [documentation](https://www.rdocumentation.org/packages/RcmdrMisc/versions/2.5-1/topics/KMeans)"
   ]
  },
  {
   "cell_type": "markdown",
   "metadata": {
    "tags": [
     "@hint"
    ]
   },
   "source": [
    "Does your `k_vec` and `inertias` code look like this?\n",
    "\n",
    "```r\n",
    "k_vec <- 1:10\n",
    "inertias <- rep(NA, length(k_vec))\n",
    "```"
   ]
  },
  {
   "cell_type": "code",
   "execution_count": null,
   "metadata": {
    "tags": [
     "@sample_code"
    ]
   },
   "outputs": [],
   "source": [
    "# Create a vector of 1 to 10 \n",
    "k_vec <- ....\n",
    "\n",
    "# Initialise vector of inertias\n",
    "inertias <- ....\n",
    "\n",
    "# Initialise empty list to save K-mean fits \n",
    "mykm <- list()\n",
    "\n",
    "# Set the seed of random number generator \n",
    "set.seed(1)\n",
    "for (k in k_vec) {\n",
    "    # for each k, fit a K-mean model with k clusters and save it in the mykm list\n",
    "    mykm[[k]] <- ....(car_acc_standised[,c(3,4,5)], ...., nstart=50)\n",
    "    # for each k, get the within-cluster sum-of-squares and save\n",
    "    inertias[k] <- mykm[[k]]$....             \n",
    "}\n",
    "\n",
    "# Plot the within-cluster sum-of-squares against the number of clusters used\n",
    "data_frame(k_vec,inertias) %>%\n",
    "ggplot( aes(....) ) +\n",
    "geom_point() + geom_line() +\n",
    "labs(x=\"Number of clusters\", y=\"Intertias\")"
   ]
  },
  {
   "cell_type": "code",
   "execution_count": null,
   "metadata": {
    "tags": [
     "@solution"
    ]
   },
   "outputs": [],
   "source": [
    "# create a vector of 1 to 10 clusters\n",
    "k_vec <- 1:10\n",
    "# initialise vector of inertias, or within-cluster sum-of-squares\n",
    "inertias <- rep(NA, length(k_vec))\n",
    "# initialise empty list to save K-mean fits \n",
    "mykm <- list()\n",
    "# set the seed of random number generator \n",
    "set.seed(1)\n",
    "for (k in k_vec) {\n",
    "    # for each k, fit a K-mean model with k clusters and save it in the mykm list\n",
    "                mykm[[k]] <- kmeans( car_acc_standised[,c(3,4,5)] , centers=k , nstart=50  )\n",
    "    # for each k, get the within-cluster sum-of-squares and save\n",
    "                inertias[k] <- mykm[[k]]$tot.withinss             \n",
    "}\n",
    "# plot the within-cluster sum-of-squares against the number of clusters used\n",
    "data_frame(k_vec,inertias) %>%\n",
    "ggplot( aes(x=k_vec,y=inertias) ) +\n",
    "geom_point() + geom_line() +\n",
    "labs(x=\"Number of clusters\", y=\"Intertias\")"
   ]
  },
  {
   "cell_type": "code",
   "execution_count": null,
   "metadata": {
    "tags": [
     "@tests"
    ]
   },
   "outputs": [],
   "source": [
    "# One or more tests of the student's code. \n",
    "# The @solution should pass the tests.\n",
    "# The purpose of the tests is to try to catch common errors and to \n",
    "# give the student a hint on how to resolve these errors.\n",
    "get_aesthetics <- function(p) {\n",
    "    unlist(c(list(p$mapping), purrr::map(p$layers, \"mapping\")))\n",
    "}\n",
    "run_tests({\n",
    "    test_that(\"the answer is correct\", {\n",
    "        expect_equal( sum(k_vec) , 55 , \n",
    "                     info = \"Did you create a vector that goes from 1 to 10 by increments of 1?\")\n",
    "        expect_is( mykm[[1]] , 'kmeans' , \n",
    "                  info = \"Did you use to kmeans function to populate mykm?\")\n",
    "        expect_equal( max(mykm[[9]]$cluster) , 9 , \n",
    "                     info = \"Did you use of the 'centers' argument of the kmean function so that \n",
    "                            the number of centers changes with each iteration?\") \n",
    "    })\n",
    "    p <- last_plot()\n",
    "    test_that(\"plot is correct\", {\n",
    "        expect_is(p, \"ggplot\", info = \"Did you create a ggplot figure?\")  \n",
    "        expect_equal(length(p$layers), 2, info = \"Did you create a plot with geom_line() and geom_point()?\")\n",
    "        aesthetics <- get_aesthetics(p)\n",
    "        expect_equal(rlang::quo_name(aesthetics$x), \"k_vec\",\n",
    "                     info = \"Did you put k_vec on the x-axis?\")\n",
    "        expect_equal(rlang::quo_name(aesthetics$y), \"inertias\",\n",
    "                     info = \"Did you put inertias on the y-axis?\")\n",
    "    })\n",
    "})"
   ]
  },
  {
   "cell_type": "markdown",
   "metadata": {},
   "source": [
    "*The recommended number of tasks in a DataCamp Project is between 8 and 10, so feel free to add more if necessary. You can't have more than 12 tasks.*"
   ]
  },
  {
   "cell_type": "markdown",
   "metadata": {
    "tags": [
     "type:NotebookTask"
    ]
   },
   "source": [
    "## 9. KMeans to visualize clusters in the PCA scatter plot"
   ]
  },
  {
   "cell_type": "markdown",
   "metadata": {
    "tags": [
     "@context"
    ]
   },
   "source": [
    "Since there wasn't a clear elbow in the scree plot, assigning the states to either two or three clusters is a reasonable choice, and we will resume our analysis using three clusters. Let's see how the PCA scatter plot looks if we color the states according to the cluster to which they are assigned."
   ]
  },
  {
   "cell_type": "markdown",
   "metadata": {
    "tags": [
     "@instructions"
    ]
   },
   "source": [
    "Highlight the clusters of the K-means fit with three clusters in the PCA scatterplot.\n",
    "- Obtain cluster-ids from the kmeans fit with k=3, using the `cluster` handle. \n",
    "- Then color the points of the principle component plot according to their cluster number by setting the `col` argument equal to the `cluster_id` vector. \n",
    "\n",
    "<hr>"
   ]
  },
  {
   "cell_type": "markdown",
   "metadata": {
    "tags": [
     "@hint"
    ]
   },
   "source": [
    "Setting the `col` argument can be done like this: `col=cluster_id`"
   ]
  },
  {
   "cell_type": "code",
   "execution_count": null,
   "metadata": {
    "tags": [
     "@sample_code"
    ]
   },
   "outputs": [],
   "source": [
    "# Obtain cluster-ids from the kmeans fit with k=3\n",
    "cluster_id <- as.factor(mykm[[3]]$....)\n",
    "\n",
    "# Color the points of the principle component plot according to their cluster number\n",
    "data_frame(pcomp1,pcomp2) %>%\n",
    "ggplot(aes(x=pcomp1,y=pcomp2)) + geom_point(...) +\n",
    "labs(x=\"Principle Component 1\",\n",
    "    y=\"Principle Component 2\") "
   ]
  },
  {
   "cell_type": "code",
   "execution_count": null,
   "metadata": {
    "tags": [
     "@solution"
    ]
   },
   "outputs": [],
   "source": [
    "# Obtain cluster-ids from the kmeans fit with k=3\n",
    "cluster_id <- as.factor(mykm[[3]]$cluster)\n",
    "# Color the points of the principle component plot according to their cluster number\n",
    "data_frame(pcomp1,pcomp2) %>%\n",
    "ggplot(aes(x=pcomp1,y=pcomp2)) + geom_point(aes(color=cluster_id)) +\n",
    "labs(x=\"Principle Component 1\",\n",
    "    y=\"Principle Component 2\")"
   ]
  },
  {
   "cell_type": "code",
   "execution_count": null,
   "metadata": {
    "tags": [
     "@tests"
    ]
   },
   "outputs": [],
   "source": [
    "# One or more tests of the student's code. \n",
    "# The @solution should pass the tests.\n",
    "# The purpose of the tests is to try to catch common errors and to \n",
    "# give the student a hint on how to resolve these errors.\n",
    "get_aesthetics <- function(p) {\n",
    "    unlist(c(list(p$mapping), purrr::map(p$layers, \"mapping\")))\n",
    "}\n",
    "\n",
    "run_tests({\n",
    "    test_that(\"the answer is correct\", {\n",
    "        expect_equal( length(unique(cluster_id)), 3 , \n",
    "                     info = \"Did you access the cluster element of mykm?\")\n",
    "    })\n",
    "    test_that(\"the plot is correct\", {\n",
    "         p <- last_plot()\n",
    "         aesthetics <- get_aesthetics(p)\n",
    "         expect_equal(rlang::quo_name(aesthetics$colour), \"cluster_id\",\n",
    "                     info = \"Did you map the cluster_id to the color using aes()?\")\n",
    "    })\n",
    "})"
   ]
  },
  {
   "cell_type": "markdown",
   "metadata": {
    "tags": [
     "type:NotebookTask"
    ]
   },
   "source": [
    "## 10. Visualize the feature differences between the clusters"
   ]
  },
  {
   "cell_type": "markdown",
   "metadata": {
    "tags": [
     "@context"
    ]
   },
   "source": [
    "Thus far, we have used both our visual interpretation of the data and the KMeans clustering algorithm to reveal patterns in the data, but what do these patterns mean?\n",
    "\n",
    "Remember that the information we have used to cluster the states into three distinct groups are the percentage of drivers speeding, under alcohol influence and that has not previously been involved in an accident. We used these clusters to visualize how the states group together when considering the first two principal components. This is good for us to understand structure in the data, but not always easy to understand, especially not if the findings are to be communicated to a non-specialist audience.\n",
    "\n",
    "A reasonable next step in our analysis is to explore how the three clusters are different in terms of the three features that we used for clustering. Instead of using the scaled features, we return to using the unscaled features to help us interpret the differences."
   ]
  },
  {
   "cell_type": "markdown",
   "metadata": {
    "tags": [
     "@instructions"
    ]
   },
   "source": [
    "Visualise the distribution of speeding, alcohol influence, and precentage of first time accidents in a direct comparison of the clusters. \n",
    "- Add the `cluster_id` vector to the original data frame.\n",
    "- Remove the `drvr_fatl_col_bmiles` column and use `gather()` to create a long format of the data frame. \n",
    "- Visualise the distribution of the three features using `geom_violin()`, set the `fill` aesthetic to show separate violin plots for each cluster.\n",
    "\n",
    "<hr>\n",
    "\n",
    "Though not _necessary_, flipping the coordinates of the plot is provided in the sample code.\n",
    "\n",
    "Helpful links:\n",
    "- dplyr's gather() function [documentation](https://www.rdocumentation.org/packages/tidyr/versions/0.8.1/topics/gather)\n",
    "- tidyr's [cheat sheet](https://www.rstudio.com/wp-content/uploads/2015/02/data-wrangling-cheatsheet.pdf) "
   ]
  },
  {
   "cell_type": "markdown",
   "metadata": {
    "tags": [
     "@hint"
    ]
   },
   "source": [
    "Adding a column to a data frame can be done like this:\n",
    "\n",
    "```r\n",
    "data_frame$new_col_name <- col_to_add\n",
    "```"
   ]
  },
  {
   "cell_type": "code",
   "execution_count": null,
   "metadata": {
    "tags": [
     "@sample_code"
    ]
   },
   "outputs": [],
   "source": [
    "# Add cluster_id to the original data frame\n",
    "car_acc$cluster <- ....\n",
    "\n",
    "# Get the data into long format and plot\n",
    "car_acc %>%\n",
    "    .... %>% \n",
    "    ....(key=feature, value=percent, -state, -cluster) %>%\n",
    "    ggplot(aes(x=feature,y=percent, ....)) +\n",
    "    .... +\n",
    "    coord_flip()"
   ]
  },
  {
   "cell_type": "code",
   "execution_count": null,
   "metadata": {
    "tags": [
     "@solution"
    ]
   },
   "outputs": [],
   "source": [
    "# add the cluster_id into the original data frame\n",
    "car_acc$cluster <- cluster_id\n",
    "\n",
    "# use the pipe operator on the car_acc data frame to first remove the drvr_fatl_col_bmiles column,\n",
    "# then convert the data frame into a long format and then create a violin plot using ggplot\n",
    "car_acc %>%  select(-drvr_fatl_col_bmiles) %>% \n",
    "                gather(key=feature,value=percent,-state,-cluster) %>% \n",
    "                ggplot( aes(x=feature,y=percent , fill=cluster) ) +\n",
    "                geom_violin( ) +\n",
    "                coord_flip()"
   ]
  },
  {
   "cell_type": "code",
   "execution_count": null,
   "metadata": {
    "tags": [
     "@tests"
    ]
   },
   "outputs": [],
   "source": [
    "# One or more tests of the student's code. \n",
    "# The @solution should pass the tests.\n",
    "# The purpose of the tests is to try to catch common errors and to \n",
    "# give the student a hint on how to resolve these errors.\n",
    "run_tests({\n",
    "    test_that(\"the answer is correct\", {\n",
    "    expect_equal( length(unique(car_acc$cluster)) , 3 , \n",
    "        info = \"Did you add the cluster_id vector to the carr_acc data frame?\")\n",
    "        })\n",
    "    test_that(\"the plot is correct\", {\n",
    "        p <- last_plot()\n",
    "        expect_is(p, \"ggplot\", info = \"Did you create a ggplot figure?\")\n",
    "        expect_equal(p$data, car_acc %>%  select(-drvr_fatl_col_bmiles) %>% \n",
    "                gather(key=feature,value=percent,-state,-cluster), \n",
    "                     info = \"Did you create your plot out after renoming drvr_fatl_col_bmiles and after gathering your data?\")\n",
    "        expect_is(p$layers[[1]]$geom, \"GeomViolin\", info = \"Did you create a plot with geom_violin()?\")\n",
    "    })\n",
    "})"
   ]
  },
  {
   "cell_type": "markdown",
   "metadata": {
    "tags": [
     "type:NotebookTask"
    ]
   },
   "source": [
    "## 11. Compute the number of accidents within each cluster"
   ]
  },
  {
   "cell_type": "markdown",
   "metadata": {
    "tags": [
     "@context"
    ]
   },
   "source": [
    "Now it is clear that different groups of states may require different interventions. Since resources and time are limited, it is useful to start off with an intervention in one of the three groups first. Which group would this be? To determine this, we will include data on how many miles are driven in each state, because this will help us to compute the total number of fatal accidents in each state. Data on miles driven is available in another tab-delimited text file. We will assign this new information to a column in the data frame and create a violin plot for how many total fatal traffic accidents there are within each state cluster."
   ]
  },
  {
   "cell_type": "markdown",
   "metadata": {
    "tags": [
     "@instructions"
    ]
   },
   "source": [
    "Add state-wise information about miles driven to compute total number of fatal accidents and total accidents across clusters\n",
    "- Use the `left_join` function to join the new data frame miles_driven to `car_acc` by the state variable, then create a new variable `num_drvr_fatl_col` by multiplying `drvr_fatl_col_bmiles` with `million_miles_annually` and dividing by 1000.\n",
    "- Creating a summary per cluster of the total number of fatal accidents\n",
    "- Plot the sum for each cluster using `geom_bar` by setting the `stat` to \"identity\". Set the `fill` aesthetic to the cluster. You can also drop the legend using `show.legend` argument. \n",
    "\n",
    "<hr>\n",
    "\n",
    "Helpful links:\n",
    "- dplyr's `left_join()` function [documentation](https://dplyr.tidyverse.org/reference/join.html)\n",
    "- joining data [lecture video](https://campus.datacamp.com/courses/joining-data-in-r-with-dplyr/mutating-joins?ex=7) from Joining Data in R with dplyr"
   ]
  },
  {
   "cell_type": "markdown",
   "metadata": {
    "tags": [
     "@hint"
    ]
   },
   "source": [
    "The calculation for `num_drvr_fatl_col` is as follows:\n",
    "\n",
    "```r\n",
    "num_drvr_fatl_col = drvr_fatl_col_bmiles*million_miles_annually / 1000\n",
    "```"
   ]
  },
  {
   "cell_type": "code",
   "execution_count": null,
   "metadata": {
    "tags": [
     "@sample_code"
    ]
   },
   "outputs": [],
   "source": [
    "# Read in the miles-driven.csv file\n",
    "miles_driven <- read_delim( file=\"datasets/miles-driven.csv\", delim = '|' )\n",
    "\n",
    "# Join miles_driven with car_acc and add num_drvr_fatl_col \n",
    "carr_acc_joined <- car_acc  %>% \n",
    "  ....(miles_driven, ....) \n",
    "  ....(num_drvr_fatl_col= ....)\n",
    "\n",
    "# Group the new data frame, select relevant variables, and summarise \n",
    "carr_acc_joined_summ <- carr_acc_joined %>%\n",
    "    group_by(cluster) %>%\n",
    "    select(cluster,num_drvr_fatl_col) %>%\n",
    "    summarise(count=n(),\n",
    "              mean=mean(num_drvr_fatl_col),\n",
    "              sum=sum(num_drvr_fatl_col))\n",
    "print(carr_acc_joined_summ)\n",
    "\n",
    "# Compare the total fatal accident sum across clusters using a bar plot\n",
    "carr_acc_joined_summ %>%\n",
    "    ggplot(aes(x=cluster, y=sum)) +\n",
    "    ....(aes(fill = ....), stat = ...., show.legend = F)"
   ]
  },
  {
   "cell_type": "code",
   "execution_count": null,
   "metadata": {
    "tags": [
     "@solution"
    ]
   },
   "outputs": [],
   "source": [
    "# reading in the miles-driven.csv file\n",
    "miles_driven <- read_delim( file=\"datasets/miles-driven.csv\", delim = '|' )\n",
    "# join miles_driven with car_acc\n",
    "carr_acc_joined <- left_join(car_acc, miles_driven, by=\"state\") \n",
    "\n",
    "# create a new variable that is the total number of deadly accidents\n",
    "carr_acc_joined <- carr_acc_joined %>% mutate( num_drvr_fatl_col=drvr_fatl_col_bmiles*million_miles_annually/1000 )\n",
    "\n",
    "# use the pipe operator to groupethe new data frame, select relevant variables and summarise \n",
    "carr_acc_joined_summ <- carr_acc_joined %>% group_by(cluster) %>% select(cluster,num_drvr_fatl_col) %>% \n",
    "                summarise(count=n(),\n",
    "                          mean=mean(num_drvr_fatl_col),\n",
    "                          sum=sum(num_drvr_fatl_col))\n",
    "print(carr_acc_joined_summ)\n",
    "\n",
    "# Compare the total fatal accident sum across clusters using a bar plot\n",
    "carr_acc_joined_summ %>% ggplot( aes(x=cluster,y=sum) ) +\n",
    "                geom_bar( aes(fill=cluster), stat = \"identity\" , show.legend = F )"
   ]
  },
  {
   "cell_type": "code",
   "execution_count": null,
   "metadata": {
    "tags": [
     "@tests"
    ]
   },
   "outputs": [],
   "source": [
    "# One or more tests of the student's code. \n",
    "# The @solution should pass the tests.\n",
    "# The purpose of the tests is to try to catch common errors and to \n",
    "# give the student a hint on how to resolve these errors.\n",
    "soln_carr_acc_joined <- carr_acc_joined %>% \n",
    "    mutate( num_drvr_fatl_col=drvr_fatl_col_bmiles*million_miles_annually/1000 )\n",
    "\n",
    "run_tests({\n",
    "    test_that(\"the answer is correct\", {\n",
    "        expect_is(miles_driven, \"tbl_df\" , \n",
    "                  info = \"Did you load the miles-driven.csv file using read_delim()?\")\n",
    "        expect_equal(sum(dim(carr_acc_joined)), 59 , \n",
    "                     info = \"Did you use the left_join() function and joined the data frames by the state column?\")\n",
    "    })\n",
    "    test_that(\"num_drvr_fatl_col was made correctly\", {\n",
    "        expect_equal(soln_carr_acc_joined$num_drvr_fatl_col, carr_acc_joined$num_drvr_fatl_col, \n",
    "                    info = \"Did you correctly calculate the total number of deadly accidents? \n",
    "                            try: drvr_fatl_col_bmiles * million_miles_annually / 1000\")\n",
    "    })\n",
    "    test_that(\"the plot is correct\", {\n",
    "        p <- last_plot()\n",
    "        expect_is(p, \"ggplot\", info = \"Did you create a ggplot figure?\")\n",
    "        expect_equal(p$data, carr_acc_joined_summ, info = \"Did you create your plot out of carr_acc_joined_summ?\")\n",
    "        expect_is(p$layers[[1]]$geom, \"GeomBar\", info = \"Did you create a plot with geom_bar()?\")\n",
    "    })\n",
    "})"
   ]
  },
  {
   "cell_type": "markdown",
   "metadata": {
    "tags": [
     "type:NotebookTask"
    ]
   },
   "source": [
    "## 12. Make a decision when there is no clear right choice"
   ]
  },
  {
   "cell_type": "markdown",
   "metadata": {
    "tags": [
     "@context"
    ]
   },
   "source": [
    "As we can see, there is no obvious correct choice regarding which cluster is the most important to focus on. Yet, we can still argue for a certain cluster and motivate this using our findings above. Which cluster do you think should be a focus for policy intervention and further investigation?"
   ]
  },
  {
   "cell_type": "markdown",
   "metadata": {
    "tags": [
     "@instructions"
    ]
   },
   "source": [
    "Decide which cluster to focus your resources on.\n",
    "\n",
    "- Which cluster would you choose: 1, 2, or 3? Assign one of these integers to `cluster_num`.\n",
    "\n",
    "<hr>"
   ]
  },
  {
   "cell_type": "markdown",
   "metadata": {
    "tags": [
     "@hint"
    ]
   },
   "source": [
    "Assign 1, 2, or 3 to `cluster_num` and think about how to motivate the choice."
   ]
  },
  {
   "cell_type": "code",
   "execution_count": null,
   "metadata": {
    "tags": [
     "@sample_code"
    ]
   },
   "outputs": [],
   "source": [
    "# Which cluster would you choose?\n",
    "cluster_num <- ...."
   ]
  },
  {
   "cell_type": "code",
   "execution_count": null,
   "metadata": {
    "tags": [
     "@solution"
    ]
   },
   "outputs": [],
   "source": [
    "# Which cluster would you choose?\n",
    "cluster_num <- sample(1:3,size=1)\n",
    "print(cluster_num)"
   ]
  },
  {
   "cell_type": "code",
   "execution_count": null,
   "metadata": {
    "tags": [
     "@tests"
    ]
   },
   "outputs": [],
   "source": [
    "# One or more tests of the student's code. \n",
    "# The @solution should pass the tests.\n",
    "# The purpose of the tests is to try to catch common errors and to \n",
    "# give the student a hint on how to resolve these errors.\n",
    "run_tests({\n",
    "    test_that(\"Well done! Note that there is no definite correct answer here and there are a few ways to justify each cluster choice:'\n",
    "           '\\n1 (Red) = The highest number of people helped in total and the most states. Good if we can mobilize many resources right away.'\n",
    "           '\\n3 (Blue) = The lowest number of states and the highest number of people helped per state. Good for a focused pilot effort.'\n",
    "           '\\n2 (Green) = A good balance of the attributes from the two other clusters. This cluster also has the highest alcohol consumption'\n",
    "           '\\nwhich was the strongest correlated to fatal accidents.\", {\n",
    "        expect_true(cluster_num %in% c(1,2,3), \n",
    "                    info = \"cluster_num must be either 1, 2, or 3\")\n",
    "    })\n",
    "    # You can have more than one test\n",
    "})\n",
    "\n",
    "# Python test\n",
    "# def test_cluster_choice():\n",
    "#     assert cluster_num in range(3), \\\n",
    "#     'cluster_num must be either 0, 1, or 2'\n",
    "#     print('Well done! Note that there is no definite correct answer here and there are a few ways to justify each cluster choice:'\n",
    "#           '\\n0 (Blue) = The lowest number of states and the highest number of people helped per state. Good for a focused pilot effort.'\n",
    "#           '\\n2 (Green) = The highest number of people helped in total and the most states. Good if we can mobilize many resources right away.'\n",
    "#           '\\n1 (Orange) = A good balance of the attributes from the two other clusters. This cluster also has the highest alcohol consumption'\n",
    "#           '\\nwhich was the strongest correlated to fatal accidents.')"
   ]
  },
  {
   "cell_type": "code",
   "execution_count": null,
   "metadata": {},
   "outputs": [],
   "source": []
  }
 ],
 "metadata": {
  "celltoolbar": "Tags",
  "kernelspec": {
   "display_name": "R",
   "language": "R",
   "name": "ir"
  },
  "language_info": {
   "codemirror_mode": "r",
   "file_extension": ".r",
   "mimetype": "text/x-r-source",
   "name": "R",
   "pygments_lexer": "r",
   "version": "3.4.3"
  }
 },
 "nbformat": 4,
 "nbformat_minor": 2
}
